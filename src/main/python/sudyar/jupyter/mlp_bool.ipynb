{
 "cells": [
  {
   "cell_type": "raw",
   "source": [
    " # Импорты"
   ],
   "metadata": {
    "collapsed": false,
    "pycharm": {
     "name": ""
    }
   }
  },
  {
   "cell_type": "code",
   "execution_count": 1,
   "metadata": {
    "collapsed": true
   },
   "outputs": [],
   "source": [
    "import numpy as np #numpy\t1.26.4\n",
    "import matplotlib.pyplot as plt #matplotlib\t3.7.1\n",
    "\n",
    "rng = np.random.default_rng(51)"
   ]
  },
  {
   "cell_type": "markdown",
   "source": [
    "Инициализация всех используемых в дальнейшем функций."
   ],
   "metadata": {
    "collapsed": false
   }
  },
  {
   "cell_type": "code",
   "execution_count": 2,
   "outputs": [],
   "source": [
    "def sigmoid(x):\n",
    "  return 1 / (1 + np.exp(-x))\n",
    "\n",
    "def simpl_f(x):\n",
    "  res = np.copy(x)\n",
    "  res[res >= 0] = 1\n",
    "  res[res < 0 ] = 0\n",
    "  return res\n",
    "\n",
    "def tanh(x):\n",
    "  return np.tanh(x)\n"
   ],
   "metadata": {
    "collapsed": false
   }
  },
  {
   "cell_type": "code",
   "execution_count": 3,
   "outputs": [],
   "source": [
    "class MLP:\n",
    "  def __init__(self, architecture):\n",
    "    self.depth = len(architecture) - 1\n",
    "\n",
    "    self.activation_fn = simpl_f\n",
    "    # parameters\n",
    "    self.W = self._init_weights(architecture)\n",
    "    # Смещение (или порог активации)\n",
    "    self.b = self._init_biases(architecture)\n",
    "\n",
    "\n",
    "    # glorot uniform init\n",
    "  def _init_weights(self, arch):\n",
    "    net_in = arch[0]\n",
    "    net_out = arch[-1]\n",
    "    limit = np.sqrt(6. / (net_in + net_out))\n",
    "    return [rng.uniform(-limit, limit + 1e-5, size=(arch[i+1], arch[i])) for i in range(self.depth)]\n",
    "\n",
    "  def _init_biases(self, arch):\n",
    "    return [rng.random((arch[i+1],1))*2-1 for i in range(self.depth)]\n",
    "\n",
    "  def set_weights(self, new_W):\n",
    "    self.W = new_W\n",
    "\n",
    "  def set_biases(self, new_b):\n",
    "    self.b = new_b\n",
    "\n",
    "  def predict(self, X):\n",
    "    a = X.reshape(self.W[0].shape[1], -1)\n",
    "    # compute hidden and output layers\n",
    "    for i in range(self.depth):\n",
    "      a = np.matmul(self.W[i], a) + self.b[i]\n",
    "      # if i != self.depth-1:\n",
    "      a = self.activation_fn(a)\n",
    "    return a"
   ],
   "metadata": {
    "collapsed": false
   }
  },
  {
   "cell_type": "markdown",
   "source": [
    "# Создание моделей для всех лог функций"
   ],
   "metadata": {
    "collapsed": false
   }
  },
  {
   "cell_type": "code",
   "execution_count": 4,
   "outputs": [
    {
     "data": {
      "text/plain": "array([[[0, 0, 1, 1],\n        [0, 1, 0, 1]]])"
     },
     "execution_count": 4,
     "metadata": {},
     "output_type": "execute_result"
    }
   ],
   "source": [
    "bool_in_1 = np.array([[0], [1]])\n",
    "bool_in_2 = np.array([np.array([[0],[0]]),\n",
    "                            np.array([[0],[1]]),\n",
    "                            np.array([[1],[0]]),\n",
    "                            np.array([[1],[1]])]).T\n",
    "bool_in_2"
   ],
   "metadata": {
    "collapsed": false
   }
  },
  {
   "cell_type": "markdown",
   "source": [
    "## Not"
   ],
   "metadata": {
    "collapsed": false
   }
  },
  {
   "cell_type": "code",
   "execution_count": 5,
   "outputs": [],
   "source": [
    "net_arch_not = (1, 1)\n",
    "mlp_not = MLP(net_arch_not)"
   ],
   "metadata": {
    "collapsed": false
   }
  },
  {
   "cell_type": "code",
   "execution_count": 6,
   "outputs": [],
   "source": [
    "mlp_not.set_weights([np.array([[-1.5]])])\n",
    "mlp_not.set_biases([np.array([[1.]])])"
   ],
   "metadata": {
    "collapsed": false
   }
  },
  {
   "cell_type": "code",
   "execution_count": 7,
   "outputs": [
    {
     "data": {
      "text/plain": "array([[1., 0.]])"
     },
     "execution_count": 7,
     "metadata": {},
     "output_type": "execute_result"
    }
   ],
   "source": [
    "mlp_not.predict(bool_in_1)"
   ],
   "metadata": {
    "collapsed": false
   }
  },
  {
   "cell_type": "markdown",
   "source": [
    "## And"
   ],
   "metadata": {
    "collapsed": false
   }
  },
  {
   "cell_type": "code",
   "execution_count": 8,
   "outputs": [],
   "source": [
    "net_arch_and = (2, 1)\n",
    "mlp_and = MLP(net_arch_and)"
   ],
   "metadata": {
    "collapsed": false
   }
  },
  {
   "cell_type": "code",
   "execution_count": 9,
   "outputs": [],
   "source": [
    "mlp_and.set_weights([np.array([[1, 1.]])])\n",
    "mlp_and.set_biases([np.array([[-1.5]])])"
   ],
   "metadata": {
    "collapsed": false
   }
  },
  {
   "cell_type": "code",
   "execution_count": 10,
   "outputs": [
    {
     "data": {
      "text/plain": "array([[0., 0., 0., 1.]])"
     },
     "execution_count": 10,
     "metadata": {},
     "output_type": "execute_result"
    }
   ],
   "source": [
    "mlp_and.predict(bool_in_2)"
   ],
   "metadata": {
    "collapsed": false
   }
  },
  {
   "cell_type": "markdown",
   "source": [
    "## Or"
   ],
   "metadata": {
    "collapsed": false
   }
  },
  {
   "cell_type": "code",
   "execution_count": 11,
   "outputs": [],
   "source": [
    "net_arch_or = (2, 1)\n",
    "mlp_or = MLP(net_arch_or)"
   ],
   "metadata": {
    "collapsed": false
   }
  },
  {
   "cell_type": "code",
   "execution_count": 12,
   "outputs": [],
   "source": [
    "mlp_or.set_weights([np.array([[1, 1.]])])\n",
    "mlp_or.set_biases([np.array([[-0.5]])])"
   ],
   "metadata": {
    "collapsed": false
   }
  },
  {
   "cell_type": "code",
   "execution_count": 13,
   "outputs": [
    {
     "data": {
      "text/plain": "array([[0., 1., 1., 1.]])"
     },
     "execution_count": 13,
     "metadata": {},
     "output_type": "execute_result"
    }
   ],
   "source": [
    "mlp_or.predict(bool_in_2)"
   ],
   "metadata": {
    "collapsed": false
   }
  },
  {
   "cell_type": "markdown",
   "source": [
    "## Xor"
   ],
   "metadata": {
    "collapsed": false
   }
  },
  {
   "cell_type": "markdown",
   "source": [
    "установка модели"
   ],
   "metadata": {
    "collapsed": false
   }
  },
  {
   "cell_type": "code",
   "execution_count": 14,
   "outputs": [],
   "source": [
    "net_arch_xor = (2, 2, 1)\n",
    "mlp_xor = MLP(net_arch_xor)"
   ],
   "metadata": {
    "collapsed": false
   }
  },
  {
   "cell_type": "code",
   "execution_count": 15,
   "outputs": [],
   "source": [
    "mlp_xor.set_weights([np.array([[1., 1.],[1., 1.]]), np.array( [[-2., 1.]])])\n",
    "mlp_xor.set_biases([np.array([[-1.5], [-0.5]]), np.array( [[-0.5]])])"
   ],
   "metadata": {
    "collapsed": false
   }
  },
  {
   "cell_type": "code",
   "execution_count": 16,
   "outputs": [
    {
     "name": "stdout",
     "output_type": "stream",
     "text": [
      "(1, 2)\n",
      "[array([[1., 1.],\n",
      "       [1., 1.]]), array([[-2.,  1.]])]\n",
      "(2, 1)\n",
      "[array([[-1.5],\n",
      "       [-0.5]]), array([[-0.5]])]\n"
     ]
    }
   ],
   "source": [
    "print(mlp_xor.W[1].shape)\n",
    "print(mlp_xor.W)\n",
    "print(mlp_xor.b[0].shape)\n",
    "print(mlp_xor.b)"
   ],
   "metadata": {
    "collapsed": false
   }
  },
  {
   "cell_type": "code",
   "execution_count": 17,
   "outputs": [
    {
     "data": {
      "text/plain": "array([[0., 1., 1., 0.]])"
     },
     "execution_count": 17,
     "metadata": {},
     "output_type": "execute_result"
    }
   ],
   "source": [
    "mlp_xor.predict(bool_in_2)"
   ],
   "metadata": {
    "collapsed": false
   }
  },
  {
   "cell_type": "code",
   "execution_count": null,
   "outputs": [],
   "source": [],
   "metadata": {
    "collapsed": false
   }
  }
 ],
 "metadata": {
  "kernelspec": {
   "display_name": "Python 3",
   "language": "python",
   "name": "python3"
  },
  "language_info": {
   "codemirror_mode": {
    "name": "ipython",
    "version": 2
   },
   "file_extension": ".py",
   "mimetype": "text/x-python",
   "name": "python",
   "nbconvert_exporter": "python",
   "pygments_lexer": "ipython2",
   "version": "2.7.6"
  }
 },
 "nbformat": 4,
 "nbformat_minor": 0
}
