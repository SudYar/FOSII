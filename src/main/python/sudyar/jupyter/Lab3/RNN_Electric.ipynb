{
 "cells": [
  {
   "cell_type": "code",
   "execution_count": 1,
   "metadata": {
    "collapsed": true
   },
   "outputs": [],
   "source": [
    "import numpy as np\n",
    "import matplotlib.pyplot as plt"
   ]
  },
  {
   "cell_type": "code",
   "execution_count": 2,
   "outputs": [],
   "source": [
    "from LoadData import load_data\n",
    "from sklearn.model_selection import train_test_split\n",
    "\n",
    "seq_len = 16\n",
    "X, Y = load_data(sequence_len=seq_len)\n",
    "\n",
    "# 5. Разделение на тренировочные и тестовые данные\n",
    "X_train, X_test, y_train, y_test = train_test_split(X, Y, test_size=0.3, random_state=42)"
   ],
   "metadata": {
    "collapsed": false
   }
  },
  {
   "cell_type": "code",
   "execution_count": 3,
   "outputs": [
    {
     "data": {
      "text/plain": "(35024, 16, 1)"
     },
     "execution_count": 3,
     "metadata": {},
     "output_type": "execute_result"
    }
   ],
   "source": [
    "Y.shape"
   ],
   "metadata": {
    "collapsed": false
   }
  },
  {
   "cell_type": "code",
   "execution_count": 4,
   "outputs": [],
   "source": [
    "from RecurrentLayerTypes import RecurrentLayerTypes\n",
    "from RecurentNeuralNetworkGraph import RecurentNeuralNetworkGraph\n",
    "\n",
    "epoch = 20\n",
    "arch = [X.shape[2], 16, 1]\n",
    "gru_test = RecurentNeuralNetworkGraph(arch, RecurrentLayerTypes.GRUgr, seq_len, 12e-3)"
   ],
   "metadata": {
    "collapsed": false
   }
  },
  {
   "cell_type": "code",
   "execution_count": 5,
   "outputs": [
    {
     "name": "stderr",
     "output_type": "stream",
     "text": [
      "100%|██████████| 20/20 [04:04<00:00, 12.24s/it]"
     ]
    },
    {
     "name": "stdout",
     "output_type": "stream",
     "text": [
      "         102410038 function calls (90596954 primitive calls) in 244.620 seconds\n",
      "\n",
      "   Ordered by: cumulative time\n",
      "\n",
      "   ncalls  tottime  percall  cumtime  percall filename:lineno(function)\n",
      "        1    0.001    0.001  244.754  244.754 {built-in method builtins.exec}\n",
      "        1    0.015    0.015  244.754  244.754 <string>:1(<module>)\n",
      "        1    0.142    0.142  244.739  244.739 RecurentNeuralNetworkGraph.py:82(fit)\n",
      "    15360    0.110    0.000  125.375    0.008 RecurentNeuralNetworkGraph.py:55(forward)\n",
      "    30720    7.506    0.000  124.709    0.004 GRU.py:71(predict)\n",
      "   491520   17.545    0.000  116.931    0.000 GRU.py:84(_step)\n",
      "    15340    0.456    0.000  116.317    0.008 RecurentNeuralNetworkGraph.py:66(backward)\n",
      "10814700/15340   35.691    0.000  114.220    0.007 Node.py:30(backward)\n",
      "  5194124    4.174    0.000   76.629    0.000 Node.py:25(compute_grads)\n",
      "  1474560   24.821    0.000   57.348    0.000 autograd_ops.py:125(linear_act)\n",
      "  1472640   22.820    0.000   50.682    0.000 autograd_ops.py:133(grad_fn)\n",
      "3976280/2962560   15.094    0.000   32.751    0.000 {built-in method numpy.core._multiarray_umath.implement_array_function}\n",
      "       20    0.018    0.001   27.326    1.366 RecurentNeuralNetworkGraph.py:49(predict)\n",
      "  1474560    0.878    0.000   26.679    0.000 Functions.py:57(calc)\n",
      "  1472640    1.846    0.000   19.025    0.000 <__array_function__ internals>:177(sum)\n",
      "   983040   18.227    0.000   18.227    0.000 Functions.py:20(sigmoid_f)\n",
      "   983040    2.029    0.000   17.222    0.000 autograd_ops.py:146(concat)\n",
      "  4915200    6.721    0.000   15.747    0.000 autograd_ops.py:9(create_node)\n",
      "  1472640    2.434    0.000   15.280    0.000 fromnumeric.py:2162(sum)\n",
      "  1472640    3.039    0.000   12.512    0.000 fromnumeric.py:69(_wrapreduction)\n",
      "   981760   10.991    0.000   11.799    0.000 autograd_ops.py:150(grad_fn)\n",
      "   983040    1.135    0.000   11.771    0.000 <__array_function__ internals>:177(concatenate)\n",
      "  1474560    6.025    0.000   10.420    0.000 autograd_ops.py:27(multiply)\n",
      "  1472640    0.940    0.000    8.508    0.000 Functions.py:60(derivative)\n",
      "  1472660    8.023    0.000    8.023    0.000 {method 'reduce' of 'numpy.ufunc' objects}\n",
      "  1472640    7.996    0.000    7.996    0.000 autograd_ops.py:31(grad_fn)\n",
      "   491520    7.574    0.000    7.574    0.000 Functions.py:28(tanh_f)\n",
      "  4915200    4.233    0.000    5.827    0.000 autograd_ops.py:12(<listcomp>)\n",
      "   491520    0.445    0.000    5.801    0.000 <__array_function__ internals>:177(ones_like)\n",
      "   981760    5.120    0.000    5.120    0.000 Functions.py:24(sigmoid_df)\n",
      "   491520    0.949    0.000    4.826    0.000 numeric.py:218(ones_like)\n",
      "   491520    2.639    0.000    4.324    0.000 autograd_ops.py:77(minus)\n",
      "  5191680    3.399    0.000    3.399    0.000 Node.py:17(__init__)\n",
      "   491520    1.888    0.000    3.335    0.000 autograd_ops.py:66(add)\n",
      " 14344429    2.591    0.000    2.591    0.000 {built-in method builtins.isinstance}\n",
      "   490880    2.448    0.000    2.448    0.000 Functions.py:32(tanh_df)\n",
      "   506860    0.506    0.000    2.373    0.000 <__array_function__ internals>:177(copyto)\n",
      "    15360    0.172    0.000    1.816    0.000 RecurentNeuralNetworkGraph.py:13(get_batches)\n",
      "   506860    0.556    0.000    1.600    0.000 <__array_function__ internals>:177(empty_like)\n",
      " 10813442    1.591    0.000    1.591    0.000 {built-in method builtins.setattr}\n",
      "   490880    1.308    0.000    1.515    0.000 autograd_ops.py:88(grad_fn)\n",
      "    92192    0.497    0.000    1.484    0.000 ipkernel.py:775(_clean_thread_parent_frames)\n",
      "    46040    1.474    0.000    1.474    0.000 {built-in method numpy.array}\n",
      "  6384660    1.202    0.000    1.202    0.000 {method 'append' of 'list' objects}\n",
      "  1472640    1.184    0.000    1.184    0.000 fromnumeric.py:70(<dictcomp>)\n",
      "    30680    0.862    0.000    0.919    0.000 GRU.py:104(update_params)\n",
      "    15360    0.378    0.000    0.556    0.000 RecurentNeuralNetworkGraph.py:62(<listcomp>)\n",
      "    46096    0.276    0.000    0.555    0.000 ipkernel.py:790(<setcomp>)\n",
      "       21    0.002    0.000    0.546    0.026 std.py:1160(__iter__)\n",
      "       21    0.005    0.000    0.545    0.026 std.py:1325(refresh)\n",
      "       20    0.008    0.000    0.543    0.027 std.py:1198(update)\n",
      "       22    0.003    0.000    0.535    0.024 std.py:1464(display)\n",
      "       22    0.000    0.000    0.467    0.021 std.py:457(print_status)\n",
      "   490880    0.464    0.000    0.464    0.000 autograd_ops.py:69(grad_fn)\n",
      "       22    0.001    0.000    0.428    0.019 std.py:451(fp_write)\n",
      "       46    0.002    0.000    0.427    0.009 utils.py:194(inner)\n",
      "    46096    0.343    0.000    0.390    0.000 threading.py:1471(enumerate)\n",
      "   983040    0.382    0.000    0.382    0.000 autograd_ops.py:147(<listcomp>)\n",
      "  1472640    0.342    0.000    0.342    0.000 fromnumeric.py:2157(_sum_dispatcher)\n",
      "       20    0.231    0.012    0.310    0.015 Functions.py:36(mse)\n",
      "  1503344    0.298    0.000    0.298    0.000 {method 'items' of 'dict' objects}\n",
      "   322685    0.279    0.000    0.279    0.000 threading.py:1138(ident)\n",
      "       24    0.014    0.001    0.277    0.012 iostream.py:592(flush)\n",
      "   983040    0.228    0.000    0.228    0.000 multiarray.py:148(concatenate)\n",
      "    15340    0.215    0.000    0.215    0.000 Functions.py:40(dmse)\n",
      "    15340    0.021    0.000    0.211    0.000 <__array_function__ internals>:177(zeros_like)\n",
      "    15340    0.114    0.000    0.183    0.000 RecurentNeuralNetworkGraph.py:19(<listcomp>)\n",
      "   490320    0.182    0.000    0.182    0.000 RecurentNeuralNetworkGraph.py:15(<lambda>)\n",
      "       25    0.001    0.000    0.176    0.007 threading.py:582(wait)\n",
      "       71    0.031    0.000    0.174    0.002 iostream.py:259(schedule)\n",
      "       25    0.003    0.000    0.174    0.007 threading.py:288(wait)\n",
      "    15340    0.049    0.000    0.166    0.000 numeric.py:76(zeros_like)\n",
      "      195    0.163    0.001    0.163    0.001 {method 'acquire' of '_thread.lock' objects}\n",
      "       24    0.014    0.001    0.150    0.006 iostream.py:655(write)\n",
      "       71    0.123    0.002    0.123    0.002 socket.py:626(send)\n",
      "       24    0.006    0.000    0.121    0.005 iostream.py:577(_schedule_flush)\n",
      "   506860    0.114    0.000    0.114    0.000 multiarray.py:1071(copyto)\n",
      "   491520    0.110    0.000    0.110    0.000 numeric.py:214(_ones_like_dispatcher)\n",
      "   506860    0.109    0.000    0.109    0.000 multiarray.py:80(empty_like)\n",
      "    46060    0.106    0.000    0.106    0.000 {built-in method numpy.zeros}\n",
      "       20    0.089    0.004    0.090    0.004 {method 'shuffle' of 'numpy.random._generator.Generator' objects}\n",
      "   522309    0.084    0.000    0.084    0.000 {built-in method builtins.len}\n",
      "       20    0.005    0.000    0.079    0.004 <__array_function__ internals>:177(mean)\n",
      "       20    0.007    0.000    0.074    0.004 fromnumeric.py:3313(mean)\n",
      "   490320    0.069    0.000    0.069    0.000 RecurentNeuralNetworkGraph.py:16(<lambda>)\n",
      "       20    0.015    0.001    0.067    0.003 _methods.py:163(_mean)\n",
      "       22    0.005    0.000    0.065    0.003 std.py:1150(__str__)\n",
      "       22    0.034    0.002    0.053    0.002 std.py:464(format_meter)\n",
      "   184080    0.052    0.000    0.052    0.000 Node.py:59(reset_grad)\n",
      "       22    0.006    0.000    0.039    0.002 utils.py:378(disp_len)\n",
      "    15360    0.032    0.000    0.032    0.000 {method 'transpose' of 'numpy.ndarray' objects}\n",
      "       22    0.001    0.000    0.032    0.001 utils.py:374(_text_width)\n",
      "       22    0.000    0.000    0.031    0.001 {built-in method builtins.sum}\n",
      "    15340    0.031    0.000    0.031    0.000 RecurentNeuralNetworkGraph.py:72(<listcomp>)\n",
      "     1038    0.011    0.000    0.031    0.000 utils.py:375(<genexpr>)\n",
      "   184384    0.029    0.000    0.029    0.000 {method 'keys' of 'dict' objects}\n",
      "       26    0.004    0.000    0.029    0.001 threading.py:538(__init__)\n",
      "    92192    0.027    0.000    0.027    0.000 {method 'values' of 'dict' objects}\n",
      "       26    0.024    0.001    0.024    0.001 threading.py:236(__init__)\n",
      "       20    0.019    0.001    0.021    0.001 _methods.py:66(_count_reduce_items)\n",
      "    46121    0.021    0.000    0.021    0.000 {method '__exit__' of '_thread.RLock' objects}\n",
      "     1016    0.019    0.000    0.019    0.000 {built-in method unicodedata.east_asian_width}\n",
      "        1    0.000    0.000    0.015    0.015 std.py:952(__init__)\n",
      "       71    0.011    0.000    0.011    0.000 iostream.py:138(_event_pipe)\n",
      "    15360    0.010    0.000    0.010    0.000 RecurentNeuralNetworkGraph.py:104(output_layer)\n",
      "       24    0.006    0.000    0.009    0.000 iostream.py:505(parent_header)\n",
      "       44    0.009    0.000    0.009    0.000 utils.py:273(_is_ascii)\n",
      "       95    0.008    0.000    0.008    0.000 threading.py:1162(is_alive)\n",
      "       51    0.007    0.000    0.007    0.000 {built-in method _thread.allocate_lock}\n",
      "       22    0.007    0.000    0.007    0.000 std.py:1446(format_dict)\n",
      "       43    0.007    0.000    0.007    0.000 std.py:400(format_interval)\n",
      "       25    0.003    0.000    0.006    0.000 std.py:102(acquire)\n",
      "       24    0.005    0.000    0.005    0.000 iostream.py:550(_is_master_process)\n",
      "    15340    0.004    0.000    0.004    0.000 numeric.py:72(_zeros_like_dispatcher)\n",
      "       24    0.003    0.000    0.003    0.000 {method 'get' of '_contextvars.ContextVar' objects}\n",
      "      101    0.003    0.000    0.003    0.000 std.py:231(__call__)\n",
      "       72    0.003    0.000    0.003    0.000 {built-in method builtins.hasattr}\n",
      "       25    0.002    0.000    0.002    0.000 {method 'acquire' of '_multiprocessing.SemLock' objects}\n",
      "       96    0.002    0.000    0.002    0.000 {method 'append' of 'collections.deque' objects}\n",
      "       60    0.002    0.000    0.002    0.000 {built-in method numpy.core._multiarray_umath.normalize_axis_index}\n",
      "       21    0.002    0.000    0.002    0.000 {built-in method now}\n",
      "       22    0.002    0.000    0.002    0.000 {method 'sub' of 're.Pattern' objects}\n",
      "        1    0.000    0.000    0.001    0.001 std.py:663(__new__)\n",
      "       44    0.001    0.000    0.001    0.000 {method 'format' of 'str' objects}\n",
      "        2    0.000    0.000    0.001    0.001 std.py:1265(close)\n",
      "        1    0.000    0.000    0.001    0.001 std.py:438(status_printer)\n",
      "       20    0.000    0.000    0.001    0.000 abc.py:117(__instancecheck__)\n",
      "        1    0.000    0.000    0.001    0.001 _monitor.py:30(__init__)\n",
      "        1    0.000    0.000    0.001    0.001 threading.py:909(start)\n",
      "       20    0.001    0.000    0.001    0.000 {built-in method _abc._abc_instancecheck}\n",
      "       22    0.001    0.000    0.001    0.000 std.py:186(__format__)\n",
      "       20    0.000    0.000    0.000    0.000 RecurentNeuralNetworkGraph.py:52(<listcomp>)\n",
      "       95    0.000    0.000    0.000    0.000 threading.py:1095(_wait_for_tstate_lock)\n",
      "        4    0.000    0.000    0.000    0.000 std.py:110(__enter__)\n",
      "       82    0.000    0.000    0.000    0.000 {built-in method time.time}\n",
      "       25    0.000    0.000    0.000    0.000 std.py:106(release)\n",
      "       40    0.000    0.000    0.000    0.000 {built-in method builtins.issubclass}\n",
      "        1    0.000    0.000    0.000    0.000 {method 'disable' of '_lsprof.Profiler' objects}\n",
      "        1    0.000    0.000    0.000    0.000 std.py:760(get_lock)\n",
      "        1    0.000    0.000    0.000    0.000 utils.py:297(_screen_shape_windows)\n",
      "        1    0.000    0.000    0.000    0.000 std.py:90(__init__)\n",
      "        1    0.000    0.000    0.000    0.000 std.py:116(create_mp_lock)\n",
      "        1    0.000    0.000    0.000    0.000 context.py:70(RLock)\n",
      "       20    0.000    0.000    0.000    0.000 fromnumeric.py:3308(_mean_dispatcher)\n",
      "        1    0.000    0.000    0.000    0.000 synchronize.py:186(__init__)\n",
      "       22    0.000    0.000    0.000    0.000 std.py:153(__init__)\n",
      "        1    0.000    0.000    0.000    0.000 synchronize.py:50(__init__)\n",
      "       26    0.000    0.000    0.000    0.000 {method 'acquire' of '_thread.RLock' objects}\n",
      "        2    0.000    0.000    0.000    0.000 std.py:1286(fp_write)\n",
      "       25    0.000    0.000    0.000    0.000 threading.py:1423(current_thread)\n",
      "       26    0.000    0.000    0.000    0.000 {built-in method nt.getpid}\n",
      "      462    0.000    0.000    0.000    0.000 {built-in method builtins.ord}\n",
      "        1    0.000    0.000    0.000    0.000 __init__.py:7(_make_name)\n",
      "        1    0.000    0.000    0.000    0.000 {built-in method builtins.next}\n",
      "        1    0.000    0.000    0.000    0.000 tempfile.py:153(__next__)\n",
      "       25    0.000    0.000    0.000    0.000 threading.py:276(_acquire_restore)\n",
      "        1    0.000    0.000    0.000    0.000 {built-in method _thread.start_new_thread}\n",
      "        1    0.000    0.000    0.000    0.000 std.py:679(_get_free_pos)\n",
      "       22    0.000    0.000    0.000    0.000 {method 'update' of 'dict' objects}\n",
      "        3    0.000    0.000    0.000    0.000 _weakrefset.py:63(__iter__)\n",
      "        1    0.000    0.000    0.000    0.000 __init__.py:48(create_string_buffer)\n",
      "        4    0.000    0.000    0.000    0.000 std.py:113(__exit__)\n",
      "       25    0.000    0.000    0.000    0.000 {method 'release' of '_multiprocessing.SemLock' objects}\n",
      "        1    0.000    0.000    0.000    0.000 ipkernel.py:768(init_closure)\n",
      "        1    0.000    0.000    0.000    0.000 threading.py:820(__init__)\n",
      "        1    0.000    0.000    0.000    0.000 std.py:682(<setcomp>)\n",
      "        2    0.000    0.000    0.000    0.000 __init__.py:384(__getattr__)\n",
      "       25    0.000    0.000    0.000    0.000 threading.py:267(__exit__)\n",
      "        1    0.000    0.000    0.000    0.000 tempfile.py:142(rng)\n",
      "       22    0.000    0.000    0.000    0.000 {built-in method builtins.max}\n",
      "       25    0.000    0.000    0.000    0.000 threading.py:264(__enter__)\n",
      "      108    0.000    0.000    0.000    0.000 {built-in method builtins.divmod}\n",
      "       25    0.000    0.000    0.000    0.000 threading.py:279(_is_owned)\n",
      "       97    0.000    0.000    0.000    0.000 threading.py:546(is_set)\n",
      "        1    0.000    0.000    0.000    0.000 std.py:686(_decr_instances)\n",
      "       25    0.000    0.000    0.000    0.000 threading.py:273(_release_save)\n",
      "      3/1    0.000    0.000    0.000    0.000 abc.py:121(__subclasscheck__)\n",
      "        2    0.000    0.000    0.000    0.000 _weakrefset.py:27(__exit__)\n",
      "      3/1    0.000    0.000    0.000    0.000 {built-in method _abc._abc_subclasscheck}\n",
      "       20    0.000    0.000    0.000    0.000 {built-in method numpy.asanyarray}\n",
      "        1    0.000    0.000    0.000    0.000 utils.py:213(__init__)\n",
      "        2    0.000    0.000    0.000    0.000 __init__.py:391(__getitem__)\n",
      "       22    0.000    0.000    0.000    0.000 utils.py:108(__init__)\n",
      "       24    0.000    0.000    0.000    0.000 {built-in method builtins.abs}\n",
      "        2    0.000    0.000    0.000    0.000 _weakrefset.py:53(_commit_removals)\n",
      "       13    0.000    0.000    0.000    0.000 {built-in method builtins.getattr}\n",
      "       22    0.000    0.000    0.000    0.000 utils.py:112(__format__)\n",
      "       22    0.000    0.000    0.000    0.000 std.py:167(colour)\n",
      "        1    0.000    0.000    0.000    0.000 random.py:506(choices)\n",
      "        1    0.000    0.000    0.000    0.000 random.py:119(__init__)\n",
      "       26    0.000    0.000    0.000    0.000 {built-in method _thread.get_ident}\n",
      "        1    0.000    0.000    0.000    0.000 random.py:128(seed)\n",
      "       24    0.000    0.000    0.000    0.000 {method 'write' of '_io.StringIO' objects}\n",
      "       25    0.000    0.000    0.000    0.000 {method '__enter__' of '_thread.lock' objects}\n",
      "        2    0.000    0.000    0.000    0.000 _weakrefset.py:86(add)\n",
      "       25    0.000    0.000    0.000    0.000 {method 'release' of '_thread.lock' objects}\n",
      "        1    0.000    0.000    0.000    0.000 random.py:519(<listcomp>)\n",
      "        1    0.000    0.000    0.000    0.000 utils.py:266(_supports_unicode)\n",
      "        4    0.000    0.000    0.000    0.000 utils.py:222(__eq__)\n",
      "       26    0.000    0.000    0.000    0.000 {method 'release' of '_thread.RLock' objects}\n",
      "        1    0.000    0.000    0.000    0.000 functools.py:393(__get__)\n",
      "        1    0.000    0.000    0.000    0.000 _weakrefset.py:111(remove)\n",
      "       22    0.000    0.000    0.000    0.000 std.py:163(colour)\n",
      "       25    0.000    0.000    0.000    0.000 {method '__exit__' of '_thread.lock' objects}\n",
      "        2    0.000    0.000    0.000    0.000 <frozen importlib._bootstrap>:1053(_handle_fromlist)\n",
      "        1    0.000    0.000    0.000    0.000 {function Random.seed at 0x00000254A4BF51B0}\n",
      "        2    0.000    0.000    0.000    0.000 utils.py:187(disable_on_exception)\n",
      "        3    0.000    0.000    0.000    0.000 {method 'remove' of 'set' objects}\n",
      "        4    0.000    0.000    0.000    0.000 {method 'add' of 'set' objects}\n",
      "        1    0.000    0.000    0.000    0.000 utils.py:156(__init__)\n",
      "        1    0.000    0.000    0.000    0.000 {built-in method fromtimestamp}\n",
      "        3    0.000    0.000    0.000    0.000 utils.py:152(wrapper_setattr)\n",
      "        2    0.000    0.000    0.000    0.000 _weakrefset.py:21(__enter__)\n",
      "        1    0.000    0.000    0.000    0.000 utils.py:252(_is_utf)\n",
      "        3    0.000    0.000    0.000    0.000 std.py:226(__init__)\n",
      "        1    0.000    0.000    0.000    0.000 <frozen importlib._bootstrap>:404(parent)\n",
      "        2    0.000    0.000    0.000    0.000 std.py:1157(__hash__)\n",
      "        1    0.000    0.000    0.000    0.000 utils.py:125(__eq__)\n",
      "        2    0.000    0.000    0.000    0.000 _weakrefset.py:17(__init__)\n",
      "        1    0.000    0.000    0.000    0.000 utils.py:139(__getattr__)\n",
      "        1    0.000    0.000    0.000    0.000 threading.py:775(_newname)\n",
      "        1    0.000    0.000    0.000    0.000 threading.py:1294(_make_invoke_excepthook)\n",
      "        2    0.000    0.000    0.000    0.000 {method 'pop' of 'list' objects}\n",
      "        1    0.000    0.000    0.000    0.000 synchronize.py:90(_make_methods)\n",
      "        1    0.000    0.000    0.000    0.000 threading.py:1191(daemon)\n",
      "        1    0.000    0.000    0.000    0.000 std.py:1147(__del__)\n",
      "        2    0.000    0.000    0.000    0.000 std.py:1153(_comparable)\n",
      "        8    0.000    0.000    0.000    0.000 {method 'random' of '_random.Random' objects}\n",
      "        1    0.000    0.000    0.000    0.000 {method 'encode' of 'str' objects}\n",
      "        1    0.000    0.000    0.000    0.000 context.py:233(get_context)\n",
      "        2    0.000    0.000    0.000    0.000 {method 'startswith' of 'str' objects}\n",
      "        8    0.000    0.000    0.000    0.000 {built-in method math.floor}\n",
      "        3    0.000    0.000    0.000    0.000 _collections_abc.py:315(__subclasshook__)\n",
      "        2    0.000    0.000    0.000    0.000 {built-in method _weakref.proxy}\n",
      "        2    0.000    0.000    0.000    0.000 {built-in method builtins.id}\n",
      "        1    0.000    0.000    0.000    0.000 {built-in method __new__ of type object at 0x00007FF8EC54B920}\n",
      "        1    0.000    0.000    0.000    0.000 utils.py:282(_screen_shape_wrapper)\n",
      "        1    0.000    0.000    0.000    0.000 util.py:48(debug)\n",
      "        1    0.000    0.000    0.000    0.000 {method 'difference' of 'set' objects}\n",
      "        1    0.000    0.000    0.000    0.000 {built-in method builtins.min}\n",
      "        1    0.000    0.000    0.000    0.000 threading.py:1176(daemon)\n",
      "        1    0.000    0.000    0.000    0.000 {built-in method atexit.register}\n",
      "        1    0.000    0.000    0.000    0.000 {method 'join' of 'str' objects}\n",
      "        1    0.000    0.000    0.000    0.000 context.py:197(get_start_method)\n",
      "        1    0.000    0.000    0.000    0.000 {method 'rpartition' of 'str' objects}\n",
      "        1    0.000    0.000    0.000    0.000 std.py:98(<listcomp>)\n",
      "        2    0.000    0.000    0.000    0.000 {method 'get' of 'dict' objects}\n",
      "        1    0.000    0.000    0.000    0.000 std.py:1301(<lambda>)\n",
      "        1    0.000    0.000    0.000    0.000 {built-in method sys.audit}\n",
      "\n",
      "\n"
     ]
    },
    {
     "name": "stderr",
     "output_type": "stream",
     "text": [
      "\n"
     ]
    }
   ],
   "source": [
    "import cProfile\n",
    "cProfile.run(\"gru_test.fit(X_train, y_train, epoch_count=epoch)\", sort=\"cumtime\")\n",
    "# loss_gru_test = gru_test.fit(X_train, y_train, epoch_count=epoch)"
   ],
   "metadata": {
    "collapsed": false
   }
  },
  {
   "cell_type": "code",
   "execution_count": 6,
   "outputs": [
    {
     "ename": "NameError",
     "evalue": "name 'loss_gru_test' is not defined",
     "output_type": "error",
     "traceback": [
      "\u001B[1;31m---------------------------------------------------------------------------\u001B[0m",
      "\u001B[1;31mNameError\u001B[0m                                 Traceback (most recent call last)",
      "Cell \u001B[1;32mIn[6], line 1\u001B[0m\n\u001B[1;32m----> 1\u001B[0m plt\u001B[38;5;241m.\u001B[39mplot(\u001B[43mloss_gru_test\u001B[49m)\n\u001B[0;32m      2\u001B[0m plt\u001B[38;5;241m.\u001B[39mshow()\n\u001B[0;32m      3\u001B[0m \u001B[38;5;28mprint\u001B[39m(\u001B[38;5;124mf\u001B[39m\u001B[38;5;124m\"\u001B[39m\u001B[38;5;124mloss[-1]=\u001B[39m\u001B[38;5;132;01m{\u001B[39;00mloss_gru_test[\u001B[38;5;241m-\u001B[39m\u001B[38;5;241m1\u001B[39m]\u001B[38;5;132;01m}\u001B[39;00m\u001B[38;5;124m\"\u001B[39m)\n",
      "\u001B[1;31mNameError\u001B[0m: name 'loss_gru_test' is not defined"
     ]
    }
   ],
   "source": [
    "plt.plot(loss_gru_test)\n",
    "plt.show()\n",
    "print(f\"loss[-1]={loss_gru_test[-1]}\")"
   ],
   "metadata": {
    "collapsed": false
   }
  },
  {
   "cell_type": "code",
   "execution_count": null,
   "outputs": [],
   "source": [
    "from RecurentNeuralNetwork import RecurentNeuralNetwork\n",
    "from RecurrentLayerTypes import RecurrentLayerTypes\n",
    "from RecurentNeuralNetworkGraph import RecurentNeuralNetworkGraph\n",
    "\n",
    "epoch = 20\n",
    "arch = [X.shape[2], 16, 1]\n",
    "rnn_test = RecurentNeuralNetworkGraph(arch, RecurrentLayerTypes.RNN, seq_len , 6e-3)"
   ],
   "metadata": {
    "collapsed": false
   }
  },
  {
   "cell_type": "code",
   "execution_count": null,
   "outputs": [],
   "source": [
    "loss_rnn_test = rnn_test.fit(X_train, y_train, epoch_count=epoch)"
   ],
   "metadata": {
    "collapsed": false
   }
  },
  {
   "cell_type": "code",
   "execution_count": null,
   "outputs": [],
   "source": [
    "plt.plot(loss_rnn_test)\n",
    "plt.show()\n",
    "print(f\"loss[-1]={loss_rnn_test[-1]}\")"
   ],
   "metadata": {
    "collapsed": false
   }
  },
  {
   "cell_type": "code",
   "execution_count": null,
   "outputs": [],
   "source": [
    "from RecurentNeuralNetwork import RecurentNeuralNetwork\n",
    "from RecurrentLayerTypes import RecurrentLayerTypes\n",
    "\n",
    "epoch = 20\n",
    "arch = [X.shape[2], 16, 1]\n",
    "rnn = RecurentNeuralNetwork(arch, RecurrentLayerTypes.RNNSIMPLE, seq_len , 6e-3)"
   ],
   "metadata": {
    "collapsed": false
   }
  },
  {
   "cell_type": "code",
   "execution_count": null,
   "outputs": [],
   "source": [
    "loss = rnn.fit(X_train, y_train, epoch_count=epoch)"
   ],
   "metadata": {
    "collapsed": false
   }
  },
  {
   "cell_type": "code",
   "execution_count": null,
   "outputs": [],
   "source": [
    "plt.plot(loss)\n",
    "plt.show()\n",
    "print(f\"loss[-1]={loss[-1]}\")"
   ],
   "metadata": {
    "collapsed": false
   }
  },
  {
   "cell_type": "code",
   "execution_count": null,
   "outputs": [],
   "source": [
    "test_predict = rnn.forward(X_test)"
   ],
   "metadata": {
    "collapsed": false
   }
  },
  {
   "cell_type": "code",
   "execution_count": null,
   "outputs": [],
   "source": [
    "from Functions import mse\n",
    "print(f\"mse: {mse(test_predict, y_test)}, mse[-1]: {mse(test_predict[:,-1], y_test[:, -1])}\")\n",
    "a = 150\n",
    "b = 50\n",
    "plt.plot(test_predict[a:a+b,-1], label=\"predict[-1]\")\n",
    "plt.plot(y_test[a:a+b, -1], label=\"y_test[-1]\")\n",
    "plt.legend(loc='upper right')\n",
    "plt.show()"
   ],
   "metadata": {
    "collapsed": false
   }
  },
  {
   "cell_type": "code",
   "execution_count": null,
   "outputs": [],
   "source": [
    "# epoch = 20\n",
    "# arch = [X.shape[2], 16, 1]\n",
    "gru = RecurentNeuralNetwork(arch, RecurrentLayerTypes.GRU, seq_len , 12e-3)"
   ],
   "metadata": {
    "collapsed": false
   }
  },
  {
   "cell_type": "code",
   "execution_count": null,
   "outputs": [],
   "source": [
    "# cProfile.run(\"loss_gru = gru.fit(X_train, y_train, epoch_count=epoch)\", sort=\"cumtime\")"
   ],
   "metadata": {
    "collapsed": false
   }
  },
  {
   "cell_type": "code",
   "execution_count": null,
   "outputs": [],
   "source": [
    "loss_gru = gru.fit(X_train, y_train, epoch_count=epoch)"
   ],
   "metadata": {
    "collapsed": false
   }
  },
  {
   "cell_type": "code",
   "execution_count": null,
   "outputs": [],
   "source": [
    "plt.plot(loss_gru)\n",
    "plt.show()\n",
    "print(f\"loss[-1]={loss_gru[-1]}\")"
   ],
   "metadata": {
    "collapsed": false
   }
  },
  {
   "cell_type": "code",
   "execution_count": null,
   "outputs": [],
   "source": [
    "test_predict_gru = gru.forward(X_test)"
   ],
   "metadata": {
    "collapsed": false
   }
  },
  {
   "cell_type": "code",
   "execution_count": null,
   "outputs": [],
   "source": [
    "print(f\"mse: {mse(test_predict_gru, y_test)}, mse[-1]: {mse(test_predict_gru[:,-1], y_test[:, -1])}\")\n",
    "a = 150\n",
    "b = 50\n",
    "plt.plot(test_predict_gru[a:a+b,-1], label=\"predict[-1]\")\n",
    "plt.plot(y_test[a:a+b, -1], label=\"y_test[-1]\")\n",
    "plt.legend(loc='upper right')\n",
    "plt.show()"
   ],
   "metadata": {
    "collapsed": false
   }
  },
  {
   "cell_type": "code",
   "execution_count": null,
   "outputs": [],
   "source": [
    "# epoch = 20\n",
    "# arch = [X.shape[2], 16, 1]\n",
    "lstm = RecurentNeuralNetwork(arch, RecurrentLayerTypes.LSTM, seq_len , 24e-3)"
   ],
   "metadata": {
    "collapsed": false
   }
  },
  {
   "cell_type": "code",
   "execution_count": null,
   "outputs": [],
   "source": [
    "loss_lstm = lstm.fit(X_train, y_train, epoch_count=epoch)"
   ],
   "metadata": {
    "collapsed": false
   }
  },
  {
   "cell_type": "code",
   "execution_count": null,
   "outputs": [],
   "source": [
    "plt.plot(loss_lstm)\n",
    "plt.show()\n",
    "print(f\"loss[-1]={loss_lstm[-1]}\")"
   ],
   "metadata": {
    "collapsed": false
   }
  },
  {
   "cell_type": "code",
   "execution_count": null,
   "outputs": [],
   "source": [
    "test_predict_lstm = lstm.forward(X_test)"
   ],
   "metadata": {
    "collapsed": false
   }
  },
  {
   "cell_type": "code",
   "execution_count": null,
   "outputs": [],
   "source": [
    "print(f\"mse: {mse(test_predict_lstm, y_test)}, mse[-1]: {mse(test_predict_lstm[:,-1], y_test[:, -1])}\")\n",
    "a = 150\n",
    "b = 50\n",
    "plt.plot(test_predict_lstm[a:a+b,-1], label=\"predict[-1]\")\n",
    "plt.plot(y_test[a:a+b, -1], label=\"y_test[-1]\")\n",
    "plt.legend(loc='upper right')\n",
    "plt.show()"
   ],
   "metadata": {
    "collapsed": false
   }
  }
 ],
 "metadata": {
  "kernelspec": {
   "display_name": "Python 3",
   "language": "python",
   "name": "python3"
  },
  "language_info": {
   "codemirror_mode": {
    "name": "ipython",
    "version": 2
   },
   "file_extension": ".py",
   "mimetype": "text/x-python",
   "name": "python",
   "nbconvert_exporter": "python",
   "pygments_lexer": "ipython2",
   "version": "2.7.6"
  }
 },
 "nbformat": 4,
 "nbformat_minor": 0
}
