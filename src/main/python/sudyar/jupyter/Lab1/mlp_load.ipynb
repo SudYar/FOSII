{
 "cells": [
  {
   "cell_type": "code",
   "execution_count": 1,
   "outputs": [],
   "source": [
    "import numpy as np\n",
    "import pandas as pd"
   ],
   "metadata": {
    "collapsed": false
   }
  },
  {
   "cell_type": "code",
   "execution_count": 2,
   "outputs": [],
   "source": [
    "from MLP_lib import MLP, Metrics, sig_f"
   ],
   "metadata": {
    "collapsed": false
   }
  },
  {
   "cell_type": "markdown",
   "source": [
    "# Загрузка датасета и предобработка"
   ],
   "metadata": {
    "collapsed": false
   }
  },
  {
   "cell_type": "code",
   "execution_count": 3,
   "outputs": [
    {
     "data": {
      "text/plain": "     class-label cap-shape cap-surface cap-color  bruises    odor  \\\n0         EDIBLE    CONVEX      SMOOTH     WHITE  BRUISES  ALMOND   \n1         EDIBLE    CONVEX      SMOOTH     WHITE  BRUISES  ALMOND   \n2         EDIBLE    CONVEX      SMOOTH     WHITE  BRUISES  ALMOND   \n3         EDIBLE    CONVEX      SMOOTH     WHITE  BRUISES  ALMOND   \n4         EDIBLE    CONVEX      SMOOTH     WHITE  BRUISES  ALMOND   \n...          ...       ...         ...       ...      ...     ...   \n8411      EDIBLE   KNOBBED      SMOOTH     BROWN       NO    NONE   \n8412      EDIBLE   KNOBBED      SMOOTH     BROWN       NO    NONE   \n8413      EDIBLE   KNOBBED      SMOOTH     BROWN       NO    NONE   \n8414      EDIBLE   KNOBBED      SMOOTH     BROWN       NO    NONE   \n8415      EDIBLE   KNOBBED      SMOOTH     BROWN       NO    NONE   \n\n     gill-attachment gill-spacing gill-size gill-color  ...  \\\n0               FREE      CROWDED    NARROW      WHITE  ...   \n1               FREE      CROWDED    NARROW      WHITE  ...   \n2               FREE      CROWDED    NARROW       PINK  ...   \n3               FREE      CROWDED    NARROW       PINK  ...   \n4               FREE      CROWDED    NARROW      BROWN  ...   \n...              ...          ...       ...        ...  ...   \n8411        ATTACHED        CLOSE     BROAD      BROWN  ...   \n8412        ATTACHED        CLOSE     BROAD      BROWN  ...   \n8413        ATTACHED        CLOSE     BROAD      BROWN  ...   \n8414        ATTACHED        CLOSE     BROAD      BROWN  ...   \n8415        ATTACHED        CLOSE     BROAD      BROWN  ...   \n\n     stalk-surface-below-ring stalk-color-above-ring stalk-color-below-ring  \\\n0                      SMOOTH                  WHITE                  WHITE   \n1                      SMOOTH                  WHITE                  WHITE   \n2                      SMOOTH                  WHITE                  WHITE   \n3                      SMOOTH                  WHITE                  WHITE   \n4                      SMOOTH                  WHITE                  WHITE   \n...                       ...                    ...                    ...   \n8411                   SMOOTH                 ORANGE                 ORANGE   \n8412                   SMOOTH                 ORANGE                 ORANGE   \n8413                   SMOOTH                 ORANGE                 ORANGE   \n8414                   SMOOTH                 ORANGE                 ORANGE   \n8415                   SMOOTH                 ORANGE                 ORANGE   \n\n     veil-type veil-color ring-number ring-type spore-print-color population  \\\n0      PARTIAL      WHITE         ONE   PENDANT            PURPLE    SEVERAL   \n1      PARTIAL      WHITE         ONE   PENDANT             BROWN    SEVERAL   \n2      PARTIAL      WHITE         ONE   PENDANT            PURPLE    SEVERAL   \n3      PARTIAL      WHITE         ONE   PENDANT             BROWN    SEVERAL   \n4      PARTIAL      WHITE         ONE   PENDANT            PURPLE    SEVERAL   \n...        ...        ...         ...       ...               ...        ...   \n8411   PARTIAL      BROWN         ONE   PENDANT             BROWN  CLUSTERED   \n8412   PARTIAL      BROWN         ONE   PENDANT            ORANGE    SEVERAL   \n8413   PARTIAL      BROWN         ONE   PENDANT            ORANGE  CLUSTERED   \n8414   PARTIAL      BROWN         ONE   PENDANT              BUFF    SEVERAL   \n8415   PARTIAL      BROWN         ONE   PENDANT              BUFF  CLUSTERED   \n\n     habitat  \n0      WOODS  \n1      WOODS  \n2      WOODS  \n3      WOODS  \n4      WOODS  \n...      ...  \n8411  LEAVES  \n8412  LEAVES  \n8413  LEAVES  \n8414  LEAVES  \n8415  LEAVES  \n\n[8416 rows x 23 columns]",
      "text/html": "<div>\n<style scoped>\n    .dataframe tbody tr th:only-of-type {\n        vertical-align: middle;\n    }\n\n    .dataframe tbody tr th {\n        vertical-align: top;\n    }\n\n    .dataframe thead th {\n        text-align: right;\n    }\n</style>\n<table border=\"1\" class=\"dataframe\">\n  <thead>\n    <tr style=\"text-align: right;\">\n      <th></th>\n      <th>class-label</th>\n      <th>cap-shape</th>\n      <th>cap-surface</th>\n      <th>cap-color</th>\n      <th>bruises</th>\n      <th>odor</th>\n      <th>gill-attachment</th>\n      <th>gill-spacing</th>\n      <th>gill-size</th>\n      <th>gill-color</th>\n      <th>...</th>\n      <th>stalk-surface-below-ring</th>\n      <th>stalk-color-above-ring</th>\n      <th>stalk-color-below-ring</th>\n      <th>veil-type</th>\n      <th>veil-color</th>\n      <th>ring-number</th>\n      <th>ring-type</th>\n      <th>spore-print-color</th>\n      <th>population</th>\n      <th>habitat</th>\n    </tr>\n  </thead>\n  <tbody>\n    <tr>\n      <th>0</th>\n      <td>EDIBLE</td>\n      <td>CONVEX</td>\n      <td>SMOOTH</td>\n      <td>WHITE</td>\n      <td>BRUISES</td>\n      <td>ALMOND</td>\n      <td>FREE</td>\n      <td>CROWDED</td>\n      <td>NARROW</td>\n      <td>WHITE</td>\n      <td>...</td>\n      <td>SMOOTH</td>\n      <td>WHITE</td>\n      <td>WHITE</td>\n      <td>PARTIAL</td>\n      <td>WHITE</td>\n      <td>ONE</td>\n      <td>PENDANT</td>\n      <td>PURPLE</td>\n      <td>SEVERAL</td>\n      <td>WOODS</td>\n    </tr>\n    <tr>\n      <th>1</th>\n      <td>EDIBLE</td>\n      <td>CONVEX</td>\n      <td>SMOOTH</td>\n      <td>WHITE</td>\n      <td>BRUISES</td>\n      <td>ALMOND</td>\n      <td>FREE</td>\n      <td>CROWDED</td>\n      <td>NARROW</td>\n      <td>WHITE</td>\n      <td>...</td>\n      <td>SMOOTH</td>\n      <td>WHITE</td>\n      <td>WHITE</td>\n      <td>PARTIAL</td>\n      <td>WHITE</td>\n      <td>ONE</td>\n      <td>PENDANT</td>\n      <td>BROWN</td>\n      <td>SEVERAL</td>\n      <td>WOODS</td>\n    </tr>\n    <tr>\n      <th>2</th>\n      <td>EDIBLE</td>\n      <td>CONVEX</td>\n      <td>SMOOTH</td>\n      <td>WHITE</td>\n      <td>BRUISES</td>\n      <td>ALMOND</td>\n      <td>FREE</td>\n      <td>CROWDED</td>\n      <td>NARROW</td>\n      <td>PINK</td>\n      <td>...</td>\n      <td>SMOOTH</td>\n      <td>WHITE</td>\n      <td>WHITE</td>\n      <td>PARTIAL</td>\n      <td>WHITE</td>\n      <td>ONE</td>\n      <td>PENDANT</td>\n      <td>PURPLE</td>\n      <td>SEVERAL</td>\n      <td>WOODS</td>\n    </tr>\n    <tr>\n      <th>3</th>\n      <td>EDIBLE</td>\n      <td>CONVEX</td>\n      <td>SMOOTH</td>\n      <td>WHITE</td>\n      <td>BRUISES</td>\n      <td>ALMOND</td>\n      <td>FREE</td>\n      <td>CROWDED</td>\n      <td>NARROW</td>\n      <td>PINK</td>\n      <td>...</td>\n      <td>SMOOTH</td>\n      <td>WHITE</td>\n      <td>WHITE</td>\n      <td>PARTIAL</td>\n      <td>WHITE</td>\n      <td>ONE</td>\n      <td>PENDANT</td>\n      <td>BROWN</td>\n      <td>SEVERAL</td>\n      <td>WOODS</td>\n    </tr>\n    <tr>\n      <th>4</th>\n      <td>EDIBLE</td>\n      <td>CONVEX</td>\n      <td>SMOOTH</td>\n      <td>WHITE</td>\n      <td>BRUISES</td>\n      <td>ALMOND</td>\n      <td>FREE</td>\n      <td>CROWDED</td>\n      <td>NARROW</td>\n      <td>BROWN</td>\n      <td>...</td>\n      <td>SMOOTH</td>\n      <td>WHITE</td>\n      <td>WHITE</td>\n      <td>PARTIAL</td>\n      <td>WHITE</td>\n      <td>ONE</td>\n      <td>PENDANT</td>\n      <td>PURPLE</td>\n      <td>SEVERAL</td>\n      <td>WOODS</td>\n    </tr>\n    <tr>\n      <th>...</th>\n      <td>...</td>\n      <td>...</td>\n      <td>...</td>\n      <td>...</td>\n      <td>...</td>\n      <td>...</td>\n      <td>...</td>\n      <td>...</td>\n      <td>...</td>\n      <td>...</td>\n      <td>...</td>\n      <td>...</td>\n      <td>...</td>\n      <td>...</td>\n      <td>...</td>\n      <td>...</td>\n      <td>...</td>\n      <td>...</td>\n      <td>...</td>\n      <td>...</td>\n      <td>...</td>\n    </tr>\n    <tr>\n      <th>8411</th>\n      <td>EDIBLE</td>\n      <td>KNOBBED</td>\n      <td>SMOOTH</td>\n      <td>BROWN</td>\n      <td>NO</td>\n      <td>NONE</td>\n      <td>ATTACHED</td>\n      <td>CLOSE</td>\n      <td>BROAD</td>\n      <td>BROWN</td>\n      <td>...</td>\n      <td>SMOOTH</td>\n      <td>ORANGE</td>\n      <td>ORANGE</td>\n      <td>PARTIAL</td>\n      <td>BROWN</td>\n      <td>ONE</td>\n      <td>PENDANT</td>\n      <td>BROWN</td>\n      <td>CLUSTERED</td>\n      <td>LEAVES</td>\n    </tr>\n    <tr>\n      <th>8412</th>\n      <td>EDIBLE</td>\n      <td>KNOBBED</td>\n      <td>SMOOTH</td>\n      <td>BROWN</td>\n      <td>NO</td>\n      <td>NONE</td>\n      <td>ATTACHED</td>\n      <td>CLOSE</td>\n      <td>BROAD</td>\n      <td>BROWN</td>\n      <td>...</td>\n      <td>SMOOTH</td>\n      <td>ORANGE</td>\n      <td>ORANGE</td>\n      <td>PARTIAL</td>\n      <td>BROWN</td>\n      <td>ONE</td>\n      <td>PENDANT</td>\n      <td>ORANGE</td>\n      <td>SEVERAL</td>\n      <td>LEAVES</td>\n    </tr>\n    <tr>\n      <th>8413</th>\n      <td>EDIBLE</td>\n      <td>KNOBBED</td>\n      <td>SMOOTH</td>\n      <td>BROWN</td>\n      <td>NO</td>\n      <td>NONE</td>\n      <td>ATTACHED</td>\n      <td>CLOSE</td>\n      <td>BROAD</td>\n      <td>BROWN</td>\n      <td>...</td>\n      <td>SMOOTH</td>\n      <td>ORANGE</td>\n      <td>ORANGE</td>\n      <td>PARTIAL</td>\n      <td>BROWN</td>\n      <td>ONE</td>\n      <td>PENDANT</td>\n      <td>ORANGE</td>\n      <td>CLUSTERED</td>\n      <td>LEAVES</td>\n    </tr>\n    <tr>\n      <th>8414</th>\n      <td>EDIBLE</td>\n      <td>KNOBBED</td>\n      <td>SMOOTH</td>\n      <td>BROWN</td>\n      <td>NO</td>\n      <td>NONE</td>\n      <td>ATTACHED</td>\n      <td>CLOSE</td>\n      <td>BROAD</td>\n      <td>BROWN</td>\n      <td>...</td>\n      <td>SMOOTH</td>\n      <td>ORANGE</td>\n      <td>ORANGE</td>\n      <td>PARTIAL</td>\n      <td>BROWN</td>\n      <td>ONE</td>\n      <td>PENDANT</td>\n      <td>BUFF</td>\n      <td>SEVERAL</td>\n      <td>LEAVES</td>\n    </tr>\n    <tr>\n      <th>8415</th>\n      <td>EDIBLE</td>\n      <td>KNOBBED</td>\n      <td>SMOOTH</td>\n      <td>BROWN</td>\n      <td>NO</td>\n      <td>NONE</td>\n      <td>ATTACHED</td>\n      <td>CLOSE</td>\n      <td>BROAD</td>\n      <td>BROWN</td>\n      <td>...</td>\n      <td>SMOOTH</td>\n      <td>ORANGE</td>\n      <td>ORANGE</td>\n      <td>PARTIAL</td>\n      <td>BROWN</td>\n      <td>ONE</td>\n      <td>PENDANT</td>\n      <td>BUFF</td>\n      <td>CLUSTERED</td>\n      <td>LEAVES</td>\n    </tr>\n  </tbody>\n</table>\n<p>8416 rows × 23 columns</p>\n</div>"
     },
     "execution_count": 3,
     "metadata": {},
     "output_type": "execute_result"
    }
   ],
   "source": [
    "dfm=pd.read_csv('Mushroom_dataset.csv', delimiter = \",\", names=['class-label','cap-shape','cap-surface','cap-color','bruises','odor','gill-attachment','gill-spacing','gill-size','gill-color','stalk-shape','stalk-root','stalk-surface-above-ring','stalk-surface-below-ring','stalk-color-above-ring','stalk-color-below-ring','veil-type','veil-color','ring-number','ring-type','spore-print-color','population','habitat'])\n",
    "dfm"
   ],
   "metadata": {
    "collapsed": false
   }
  },
  {
   "cell_type": "code",
   "execution_count": 4,
   "outputs": [],
   "source": [
    "from sklearn import preprocessing\n",
    "from sklearn.preprocessing import StandardScaler, OneHotEncoder"
   ],
   "metadata": {
    "collapsed": false
   }
  },
  {
   "cell_type": "code",
   "execution_count": 5,
   "outputs": [],
   "source": [
    "dfm = dfm.drop(['veil-type', 'veil-color', 'gill-attachment'], axis=1)\n",
    "le = preprocessing.LabelEncoder()\n",
    "for column_name in dfm.columns:\n",
    "    dfm[column_name]=le.fit_transform(dfm[column_name])"
   ],
   "metadata": {
    "collapsed": false
   }
  },
  {
   "cell_type": "code",
   "execution_count": 6,
   "outputs": [],
   "source": [
    "# 1. Загрузка данных\n",
    "mushrooms = dfm.copy()\n",
    "X = mushrooms.drop('class-label', axis=1)\n",
    "y = mushrooms['class-label']\n",
    "\n",
    "# 3. Масштабирование данных\n",
    "scaler = StandardScaler()\n",
    "X_scaled = scaler.fit_transform(X)\n",
    "\n",
    "# 4. Преобразование меток y в формат one-hot\n",
    "encoder = OneHotEncoder(sparse_output=False)\n",
    "y_one_hot = encoder.fit_transform(pd.DataFrame(y))"
   ],
   "metadata": {
    "collapsed": false
   }
  },
  {
   "cell_type": "markdown",
   "source": [
    "# Создаем модель с теми же параметрами и загружаем веса"
   ],
   "metadata": {
    "collapsed": false
   }
  },
  {
   "cell_type": "code",
   "execution_count": 7,
   "outputs": [],
   "source": [
    "net_arch_mushroom = (X.shape[1], 5, 3, 2)\n",
    "mlp_load = MLP(net_arch_mushroom, fn=sig_f, is_need_f_final=True)\n",
    "filename='19_5_3_2_sigF_isFFinal'\n",
    "mlp_load.load_weights(filename)\n",
    "mlp_load.load_biases(filename)"
   ],
   "metadata": {
    "collapsed": false
   }
  },
  {
   "cell_type": "markdown",
   "source": [
    "# Используем модель и проверяем метрики"
   ],
   "metadata": {
    "collapsed": false
   }
  },
  {
   "cell_type": "code",
   "execution_count": 8,
   "outputs": [],
   "source": [
    "res_predict = mlp_load.predict(np.array(X_scaled), True)"
   ],
   "metadata": {
    "collapsed": false
   }
  },
  {
   "cell_type": "code",
   "execution_count": 9,
   "outputs": [
    {
     "name": "stdout",
     "output_type": "stream",
     "text": [
      "Class 0: Precision = 1.0000, Recall = 1.0000, F1-Score = 1.0000\n",
      "Class 1: Precision = 1.0000, Recall = 1.0000, F1-Score = 1.0000\n"
     ]
    },
    {
     "data": {
      "text/plain": "array([[4488.,    0.],\n       [   0., 3928.]])"
     },
     "execution_count": 9,
     "metadata": {},
     "output_type": "execute_result"
    }
   ],
   "source": [
    "metrics = Metrics(res_predict, y)\n",
    "metrics.confusion_matrix"
   ],
   "metadata": {
    "collapsed": false
   }
  },
  {
   "cell_type": "code",
   "execution_count": 9,
   "outputs": [],
   "source": [],
   "metadata": {
    "collapsed": false
   }
  }
 ],
 "metadata": {
  "kernelspec": {
   "display_name": "Python 3",
   "language": "python",
   "name": "python3"
  },
  "language_info": {
   "codemirror_mode": {
    "name": "ipython",
    "version": 2
   },
   "file_extension": ".py",
   "mimetype": "text/x-python",
   "name": "python",
   "nbconvert_exporter": "python",
   "pygments_lexer": "ipython2",
   "version": "2.7.6"
  }
 },
 "nbformat": 4,
 "nbformat_minor": 0
}
