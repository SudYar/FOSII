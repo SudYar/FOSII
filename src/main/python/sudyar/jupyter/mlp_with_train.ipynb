{
 "cells": [
  {
   "cell_type": "code",
   "execution_count": 1,
   "metadata": {
    "collapsed": true
   },
   "outputs": [],
   "source": [
    "import numpy as np\n",
    "import matplotlib.pyplot as plt\n",
    "\n",
    "plt.rcParams[\"figure.figsize\"] = (20,6)\n",
    "rng = np.random.default_rng(51)"
   ]
  },
  {
   "cell_type": "markdown",
   "source": [
    "## Функции активации и их дифференциал"
   ],
   "metadata": {
    "collapsed": false
   }
  },
  {
   "cell_type": "code",
   "execution_count": 2,
   "outputs": [],
   "source": [
    "def sigmoid(x):\n",
    "  return 1 / (1 + np.exp(-x))\n",
    "\n",
    "def dsigmoid(x):\n",
    "  return sigmoid(x) * (1 - sigmoid(x))\n",
    "\n",
    "\n",
    "def simpl_f(x):\n",
    "  res = np.copy(x)\n",
    "  res[res >= 0] = 1\n",
    "  res[res < 0 ] = 0\n",
    "  return res\n",
    "\n",
    "\n",
    "def tanh(x):\n",
    "  return np.tanh(x)\n",
    "\n",
    "def dtanh(x):\n",
    "  return 1 - np.square(tanh(x))\n",
    "\n",
    "# Средняя квадратичная ошибка\n",
    "def mse(y_pred, y):\n",
    "  # 1/n*sum((угаданное-Y)^2)\n",
    "  err = np.mean(np.square(y_pred - y))\n",
    "  return err\n",
    "\n",
    "# y_pred - рассчитанное значение, y - ожидаемое\n",
    "def dmse(y_pred, y):\n",
    "  n = y.shape[0]\n",
    "  return (2/n)*(y_pred - y)"
   ],
   "metadata": {
    "collapsed": false
   }
  },
  {
   "cell_type": "markdown",
   "source": [
    "## Класс модели"
   ],
   "metadata": {
    "collapsed": false
   }
  },
  {
   "cell_type": "code",
   "execution_count": 106,
   "outputs": [],
   "source": [
    "class MLP:\n",
    "  \"\"\" Классический многослойный персептрон\"\"\"\n",
    "  def __init__(self, architecture, lr=0.01, is_need_f_final=False, fn=(sigmoid, dsigmoid)):\n",
    "    self.depth = len(architecture) - 1\n",
    "    self.lamda = lr\n",
    "    # Требуется ли активационная функция на выходном слое\n",
    "    self._is_need_func_final = is_need_f_final\n",
    "\n",
    "    self.activation_fn = fn[0]\n",
    "    self.activation_dfn = fn[1]\n",
    "\n",
    "    self.error_fn = mse\n",
    "    self.error_dfn = dmse\n",
    "\n",
    "    # Веса (k, i, j - k: номер слоя 0 = первый скрытый слой; i - конкретный нейрон; j - нейрон предыдущего слоя)\n",
    "    self.W = self._init_weights(architecture)\n",
    "    # Смещение (или порог активации)\n",
    "    # (k, i, j - k: номер слоя 0 = первый скрытый слой; i - конкретный нейрон; j=1)\n",
    "    self.b = self._init_biases(architecture)\n",
    "\n",
    "\n",
    "# Прямое направление\n",
    "    # Сумматор\n",
    "    self.z = [None] * (self.depth+1)\n",
    "    # Результат функции активации (кроме последнего слоя) (k: номер слоя: 0 - вход, 1 - первый скрытый слой; j количество нейронов на слое; l - количество данных на батч\n",
    "    self.a = [None] * (self.depth+1)\n",
    "\n",
    "    #Дельта правило (при инициализации заполняются 0)\n",
    "    self.dW = [np.zeros_like(w) for w in self.W]\n",
    "    self.db = [np.zeros_like(b) for b in self.b]\n",
    "\n",
    "    # glorot uniform init\n",
    "  def _init_weights(self, arch):\n",
    "    net_in = arch[0]\n",
    "    net_out = arch[-1]\n",
    "    limit = np.sqrt(6. / (net_in + net_out))\n",
    "    return [rng.uniform(-limit, limit + 1e-5, size=(arch[i+1], arch[i])) for i in range(self.depth)]\n",
    "\n",
    "  def _init_biases(self, arch):\n",
    "    return [rng.random((arch[i+1],1))*2-1 for i in range(self.depth)]\n",
    "\n",
    "  def set_weights(self, new_W):\n",
    "    self.W = new_W\n",
    "\n",
    "  def set_biases(self, new_b):\n",
    "    self.b = new_b\n",
    "\n",
    "  def compute_loss(self, X, y):\n",
    "    # X[l][in]\n",
    "    y_pred = self.predict(X).reshape(y.shape)\n",
    "    return self.error_fn(y_pred, y)\n",
    "\n",
    "  # Расчет прямого прохождения для нескольких X\n",
    "  def _feedforward(self, X):\n",
    "    # -1; X.shape[0] - количество значений в батче\n",
    "    # W[0].shape[1] - количество входов = net_in\n",
    "    self.a[0] = X.T.reshape(self.W[0].shape[1], -1)\n",
    "    # рассчитываем скрытые и выходной слои\n",
    "    for k in range(self.depth):\n",
    "      # перемножаются W [i (текущий слой), j (предыдущий)] * a[j (количество нейронов), l (количество в батче)]\n",
    "      self.z[k+1] = np.matmul(self.W[k], self.a[k]) + self.b[k]\n",
    "      # Выполняется только для скрытых слоев либо если передан _is_need_func_final\n",
    "      if k != self.depth-1 or self._is_need_func_final:\n",
    "        self.a[k+1] = self.activation_fn(self.z[k+1])\n",
    "      else:\n",
    "        self.a[-1] = self.z[-1]\n",
    "\n",
    "# Расчет локального градиента при обратном распространении ошибок\n",
    "  def _backprop(self, y, batch_size=32):\n",
    "    # TODO сделать delta для выходящего слоя при _is_need_func_final\n",
    "    # a[j, l], y[l, in] -> y[in, l]\n",
    "    delta = self.error_dfn(self.a[-1], y.T)\n",
    "    if self._is_need_func_final:\n",
    "      delta *= self.activation_dfn(self.z[-1])\n",
    "    for k in range(self.depth-1, 0, -1):\n",
    "      # Идем в обратном порядке. k - текущий слой, k+1 следующий. j - количество нейронов в текущем слое. i - количество нейронов в k+1 слое,\n",
    "      # todo возможно требуется поменять на loss_dfn\n",
    "      if k != self.depth-1:\n",
    "\n",
    "      # f(z[i][l]) * (dot (W[j][i], delta[i][l]) получаем [j][l], так как для W[k].shape(i) = z[k].shape(j)\n",
    "        delta = self.activation_dfn(self.z[k+1]) * np.matmul(self.W[k+1].T, delta)\n",
    "      # dot(delta[j][l], a[l][j]) должны получить dW[i, j]\n",
    "      self.dW[k] = np.matmul(delta, self.a[k].T)\n",
    "      # delta[j][1] sum l\n",
    "      self.db[k] = np.sum(delta, axis=1, keepdims=True)\n",
    "\n",
    "  # simple sgd\n",
    "  def _update_params(self, lr=1e-2):\n",
    "    for k in range(self.depth):\n",
    "      self.W[k] -= lr*self.dW[k]\n",
    "      self.b[k] -= lr*self.db[k]\n",
    "\n",
    "  def train(self, X, y, lr=None, epochs=50, batch_size=32):\n",
    "    \"\"\"\n",
    "    Обучение модели.\n",
    "\n",
    "    -------\n",
    "    :param X: Размерности l * in, где l количество входящих данных, in - количество входов\n",
    "    :param y: Размерности l * out.\n",
    "    :param lr:  learning rate, по умолчанию берет значение из MLP.lamda\n",
    "    :param epochs: Количество эпох, по умолчанию 50.\n",
    "    :param batch_size: Количество данных в одном батче. По умолчанию 32.\n",
    "    :return: Возвращает вектор loss по эпохам\n",
    "    \"\"\"\n",
    "    # n = y.shape[0]\n",
    "    lr = lr if lr is not None else self.lamda\n",
    "\n",
    "    epoch_losses = np.array([])\n",
    "    dataset = list(zip(X, y))\n",
    "    get_X = lambda z: z[0]\n",
    "    get_y = lambda z: z[1]\n",
    "    for i in range(epochs):\n",
    "      rng.shuffle(dataset)\n",
    "\n",
    "      X_batch = np.array([get_X(x) for x in dataset])\n",
    "      y_batch = np.array([get_y(y) for y in dataset])\n",
    "      # for (X_batch, y_batch) in get_batches(dataset, batch_size):\n",
    "      self._feedforward(X_batch)# X_batch)\n",
    "      self._backprop(y_batch)# y_batch)\n",
    "      self._update_params(lr=lr)\n",
    "\n",
    "      epoch_losses = np.append(epoch_losses, self.compute_loss(X, y))\n",
    "    return epoch_losses\n",
    "\n",
    "  def predict(self, X):\n",
    "    \"\"\"\n",
    "    Предсказать значение на уже обученной модели.\n",
    "\n",
    "    ------\n",
    "    :param X:На вход X размерности l * out, где l - количество полученных данных, out - количество выходящих нейронов.\n",
    "    :return: Возвращает a размерности l * out\n",
    "    \"\"\"\n",
    "    a = X.T.reshape(self.W[0].shape[1], -1)\n",
    "    # compute hidden and output layers\n",
    "    for i in range(self.depth):\n",
    "      a = np.matmul(self.W[i], a) + self.b[i]\n",
    "      if i != self.depth-1 or self._is_need_func_final:\n",
    "        a = self.activation_fn(a)\n",
    "    return a"
   ],
   "metadata": {
    "collapsed": false
   }
  },
  {
   "cell_type": "markdown",
   "source": [
    "## Используем модель"
   ],
   "metadata": {
    "collapsed": false
   }
  },
  {
   "cell_type": "code",
   "execution_count": 94,
   "outputs": [],
   "source": [
    "X_train = np.array([\n",
    "    [-1, -1, -1],\n",
    "    [-1, -1, 1],\n",
    "    [-1, 1, -1],\n",
    "    [-1, 1, 1],\n",
    "    [1, -1, -1],\n",
    "    [1, -1, 1],\n",
    "    [1, 1, -1],\n",
    "    [1, 1, 1]\n",
    "])\n",
    "y_train = np.array([[-1, 1, -1, 1, -1, 1, -1, -1]]).T"
   ],
   "metadata": {
    "collapsed": false
   }
  },
  {
   "cell_type": "code",
   "execution_count": 95,
   "outputs": [
    {
     "data": {
      "text/plain": "(array([[-1, -1, -1],\n        [-1, -1,  1],\n        [-1,  1, -1],\n        [-1,  1,  1],\n        [ 1, -1, -1],\n        [ 1, -1,  1],\n        [ 1,  1, -1],\n        [ 1,  1,  1]]),\n array([[-1],\n        [ 1],\n        [-1],\n        [ 1],\n        [-1],\n        [ 1],\n        [-1],\n        [-1]]))"
     },
     "execution_count": 95,
     "metadata": {},
     "output_type": "execute_result"
    }
   ],
   "source": [
    "X_train, y_train"
   ],
   "metadata": {
    "collapsed": false
   }
  },
  {
   "cell_type": "code",
   "execution_count": 108,
   "outputs": [],
   "source": [
    "net_arch_test = (3, 6, 1)\n",
    "mlp_test = MLP(net_arch_test, fn=(tanh, dtanh), is_need_f_final=True)"
   ],
   "metadata": {
    "collapsed": false
   }
  },
  {
   "cell_type": "code",
   "execution_count": 109,
   "outputs": [],
   "source": [
    "loss_epoches = mlp_test.train(X_train, y_train, epochs=500, lr=0.05)"
   ],
   "metadata": {
    "collapsed": false
   }
  },
  {
   "cell_type": "code",
   "execution_count": 110,
   "outputs": [
    {
     "name": "stdout",
     "output_type": "stream",
     "text": [
      "Входящие данные\n",
      " [[-1 -1 -1]\n",
      " [-1 -1  1]\n",
      " [-1  1 -1]\n",
      " [-1  1  1]\n",
      " [ 1 -1 -1]\n",
      " [ 1 -1  1]\n",
      " [ 1  1 -1]\n",
      " [ 1  1  1]] [[-1]\n",
      " [ 1]\n",
      " [-1]\n",
      " [ 1]\n",
      " [-1]\n",
      " [ 1]\n",
      " [-1]\n",
      " [-1]]\n",
      "Результат:\n",
      " [[-0.95276112]\n",
      " [ 0.99953105]\n",
      " [-0.98361675]\n",
      " [ 0.9419663 ]\n",
      " [-0.99976936]\n",
      " [ 0.92962511]\n",
      " [-0.9999727 ]\n",
      " [-0.91883295]]\n",
      "Разница между результатом и y_train:\n",
      " [[4.72388769e-02]\n",
      " [4.68945240e-04]\n",
      " [1.63832542e-02]\n",
      " [5.80336994e-02]\n",
      " [2.30638844e-04]\n",
      " [7.03748933e-02]\n",
      " [2.72975891e-05]\n",
      " [8.11670458e-02]]\n",
      "Loss\n",
      " 0.0021761026948780484\n"
     ]
    }
   ],
   "source": [
    "i = [0, 1, 2, 3]\n",
    "res = mlp_test.predict(X_train).T\n",
    "print('Входящие данные\\n',X_train, y_train)\n",
    "print('Результат:\\n',res)\n",
    "print('Разница между результатом и y_train:\\n', abs(res-y_train))\n",
    "print('Loss\\n', mlp_test.compute_loss(X_train, y_train))"
   ],
   "metadata": {
    "collapsed": false
   }
  },
  {
   "cell_type": "code",
   "execution_count": 111,
   "outputs": [
    {
     "data": {
      "text/plain": "[<matplotlib.lines.Line2D at 0x225505100a0>]"
     },
     "execution_count": 111,
     "metadata": {},
     "output_type": "execute_result"
    },
    {
     "data": {
      "text/plain": "<Figure size 2000x600 with 1 Axes>",
      "image/png": "[encoded data removed]"
     },
     "metadata": {},
     "output_type": "display_data"
    }
   ],
   "source": [
    "plt.plot(loss_epoches)"
   ],
   "metadata": {
    "collapsed": false
   }
  },
  {
   "cell_type": "markdown",
   "source": [
    "TODO проверить транспонирование и индексы"
   ],
   "metadata": {
    "collapsed": false
   }
  },
  {
   "cell_type": "code",
   "execution_count": 37,
   "outputs": [
    {
     "data": {
      "text/plain": "[array([[ 0.41156718],\n        [-1.49674125],\n        [ 1.69103268]]),\n array([[ 1.7048934 ,  0.58596701, -0.59567012]])]"
     },
     "execution_count": 37,
     "metadata": {},
     "output_type": "execute_result"
    }
   ],
   "source": [
    "X_train2 = np.array([-1, 0, 1]).reshape(-1,1)\n",
    "y_train2 = np.array([0, -1, 1]).reshape(-1,1)\n",
    "net_arch_test2 = (1, 3, 1)\n",
    "mlp_test2 = MLP(net_arch_test2, fn=(tanh, dtanh))\n",
    "mlp_test2.W"
   ],
   "metadata": {
    "collapsed": false
   }
  },
  {
   "cell_type": "code",
   "execution_count": 38,
   "outputs": [],
   "source": [
    "mlp_test2.train(X_train2, y_train2, epochs=1000)"
   ],
   "metadata": {
    "collapsed": false
   }
  },
  {
   "cell_type": "code",
   "execution_count": 39,
   "outputs": [
    {
     "data": {
      "text/plain": "(3, 3)"
     },
     "execution_count": 39,
     "metadata": {},
     "output_type": "execute_result"
    }
   ],
   "source": [
    "mlp_test2.z[1].shape"
   ],
   "metadata": {
    "collapsed": false
   }
  },
  {
   "cell_type": "code",
   "execution_count": 40,
   "outputs": [
    {
     "data": {
      "text/plain": "array([[-0.00242615, -0.99616654,  0.99736798]])"
     },
     "execution_count": 40,
     "metadata": {},
     "output_type": "execute_result"
    }
   ],
   "source": [
    "mlp_test2.predict(X_train2)"
   ],
   "metadata": {
    "collapsed": false
   }
  },
  {
   "cell_type": "code",
   "execution_count": null,
   "outputs": [],
   "source": [],
   "metadata": {
    "collapsed": false
   }
  }
 ],
 "metadata": {
  "kernelspec": {
   "display_name": "Python 3",
   "language": "python",
   "name": "python3"
  },
  "language_info": {
   "codemirror_mode": {
    "name": "ipython",
    "version": 2
   },
   "file_extension": ".py",
   "mimetype": "text/x-python",
   "name": "python",
   "nbconvert_exporter": "python",
   "pygments_lexer": "ipython2",
   "version": "2.7.6"
  }
 },
 "nbformat": 4,
 "nbformat_minor": 0
}
