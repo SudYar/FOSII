{
 "cells": [
  {
   "cell_type": "code",
   "execution_count": 1,
   "metadata": {
    "collapsed": true
   },
   "outputs": [],
   "source": [
    "import numpy as np\n",
    "import pandas as pd\n",
    "import matplotlib.pyplot as plt\n",
    "\n",
    "from sklearn.model_selection import train_test_split\n",
    "from sklearn.preprocessing import StandardScaler, OneHotEncoder\n",
    "\n",
    "\n",
    "plt.rcParams[\"figure.figsize\"] = (20,6)\n",
    "rng = np.random.default_rng(51)"
   ]
  },
  {
   "cell_type": "code",
   "execution_count": 2,
   "outputs": [],
   "source": [
    "from sklearn.datasets import fetch_openml\n",
    "# Загружаем датасет MNIST из OpenML (70000 примеров, 784 признака - это 28*28)\n",
    "dmf = fetch_openml('mnist_784', version=1)"
   ],
   "metadata": {
    "collapsed": false
   }
  },
  {
   "cell_type": "code",
   "execution_count": 3,
   "outputs": [],
   "source": [
    "# 1. Загрузка данных\n",
    "X, y = dmf[\"data\"], dmf[\"target\"]\n",
    "# 3. Масштабирование данных\n",
    "scaler = StandardScaler()\n",
    "X_scaled = scaler.fit_transform(X)\n",
    "\n",
    "# 4. Преобразование меток y в формат one-hot\n",
    "encoder = OneHotEncoder(sparse_output=False)\n",
    "y_one_hot = encoder.fit_transform(pd.DataFrame(y))\n",
    "y_one_hot[y_one_hot == 0] = -1\n",
    "\n",
    "X_scaled = X_scaled.reshape(-1, 1, 28, 28)\n",
    "\n",
    "# 5. Разделение на тренировочные и тестовые данные\n",
    "X_train, X_test, y_train, y_test = train_test_split(X_scaled, y_one_hot, test_size=0.4, random_state=42)\n",
    "\n",
    "y_train_class = encoder.inverse_transform(y_train)\n",
    "y_test_class = encoder.inverse_transform(y_test)"
   ],
   "metadata": {
    "collapsed": false
   }
  },
  {
   "cell_type": "code",
   "execution_count": 4,
   "outputs": [],
   "source": [
    "from sklearn.manifold import TSNE"
   ],
   "metadata": {
    "collapsed": false
   }
  },
  {
   "cell_type": "code",
   "execution_count": 5,
   "outputs": [],
   "source": [
    "# tsne = TSNE(n_components=2, random_state=0)\n",
    "# x_tsne = tsne.fit_transform(X_test.reshape((-1, 28 * 28)))"
   ],
   "metadata": {
    "collapsed": false
   }
  },
  {
   "cell_type": "code",
   "execution_count": 6,
   "outputs": [],
   "source": [
    "# # Визуализация результатов\n",
    "# plt.figure(figsize=(10, 8))\n",
    "# scatter = plt.scatter(x_tsne[:, 0], x_tsne[:, 1], c=y_test_class, cmap='tab10', alpha=0.7)\n",
    "# plt.colorbar(scatter, ticks=range(10), label=\"Цифры\")\n",
    "# plt.title(\"Визуализация MNIST с использованием t-SNE\")\n",
    "# plt.xlabel(\"t-SNE компонент 1\")\n",
    "# plt.ylabel(\"t-SNE компонент 2\")\n",
    "# plt.show()"
   ],
   "metadata": {
    "collapsed": false
   }
  },
  {
   "cell_type": "markdown",
   "source": [
    "# Модель"
   ],
   "metadata": {
    "collapsed": false
   }
  },
  {
   "cell_type": "code",
   "execution_count": 7,
   "outputs": [],
   "source": [
    "from NeuralNetwork import NeuralNetwork\n",
    "from Functions import mse, dmse, Functions, rng\n",
    "from LayerTypes import LayerTypes, create_layer"
   ],
   "metadata": {
    "collapsed": false
   }
  },
  {
   "cell_type": "code",
   "execution_count": 8,
   "outputs": [],
   "source": [
    "net_arch_mnist = ((20,5,5), (2,12,12), (10,3,3), (2, 5, 5), 20, 10)\n",
    "NN = NeuralNetwork([\n",
    "        create_layer(LayerTypes.CONVOLUTIONAL, kernel_count=net_arch_mnist[0][0],\n",
    "                     kernel_size=(5, 5), input_size=(1, 28, 28),\n",
    "                     activation_function=Functions.relu),\n",
    "        create_layer(LayerTypes.POOLING, pool_size=2),\n",
    "        create_layer(LayerTypes.CONVOLUTIONAL, kernel_count=net_arch_mnist[2][0],\n",
    "                     kernel_size=(3, 3), input_size=(net_arch_mnist[0][0], 12, 12),\n",
    "                     activation_function=Functions.relu),\n",
    "        create_layer(LayerTypes.POOLING, pool_size=2),\n",
    "        create_layer(LayerTypes.FLATTEN),\n",
    "        create_layer(LayerTypes.DENSE, input_size=250, output_size=20, activation_function=Functions.tanh),\n",
    "        create_layer(LayerTypes.DENSE, input_size=20, output_size=10, activation_function=Functions.tanh)\n",
    "    ], 0.07)\n"
   ],
   "metadata": {
    "collapsed": false
   }
  },
  {
   "cell_type": "code",
   "execution_count": 9,
   "outputs": [
    {
     "name": "stderr",
     "output_type": "stream",
     "text": [
      "100%|██████████| 3/3 [05:32<00:00, 110.79s/it]\n"
     ]
    }
   ],
   "source": [
    "loss = NN.fit(X_train, y_train, 3, batch_size=128)"
   ],
   "metadata": {
    "collapsed": false
   }
  },
  {
   "cell_type": "code",
   "execution_count": 10,
   "outputs": [
    {
     "data": {
      "text/plain": "array([0.00136453, 0.00035971, 0.00024523])"
     },
     "execution_count": 10,
     "metadata": {},
     "output_type": "execute_result"
    }
   ],
   "source": [
    "loss"
   ],
   "metadata": {
    "collapsed": false
   }
  },
  {
   "cell_type": "code",
   "execution_count": 11,
   "outputs": [],
   "source": [
    "class Metrics:\n",
    "\n",
    "  def __init__(self, y_pred, y):\n",
    "    self.confusion_matrix = self._init_confusion_matrix(y_pred, y)\n",
    "    self.accuracy = np.trace(self.confusion_matrix) \\\n",
    "                    / np.sum(self.confusion_matrix)\n",
    "    confusion_matrix = self.confusion_matrix\n",
    "    # Инициализируем списки для precision, recall и F1 для каждого класса\n",
    "    precision = []\n",
    "    recall = []\n",
    "    f1_score = []\n",
    "\n",
    "    # Рассчитываем метрики для каждого класса\n",
    "    for i in range(len(self.confusion_matrix)):\n",
    "        TP = confusion_matrix[i, i]\n",
    "        FP = np.sum(confusion_matrix[:, i]) - TP\n",
    "        FN = np.sum(confusion_matrix[i, :]) - TP\n",
    "        TN = np.sum(confusion_matrix) - (TP + FP + FN)\n",
    "\n",
    "        # Precision, Recall, F1 для класса i\n",
    "        prec = TP / (TP + FP) if (TP + FP) > 0 else 0\n",
    "        rec = TP / (TP + FN) if (TP + FN) > 0 else 0\n",
    "        f1 = 2 * prec * rec / (prec + rec) if (prec + rec) > 0 else 0\n",
    "\n",
    "        precision.append(prec)\n",
    "        recall.append(rec)\n",
    "        f1_score.append(f1)\n",
    "\n",
    "        print(f\"Class {i}: Precision = {prec:.4f}, Recall = {rec:.4f}, F1-Score = {f1:.4f}\")\n",
    "    self.precision = precision\n",
    "    self.recall = recall\n",
    "    self.f1_score = f1_score\n",
    "\n",
    "  def _init_confusion_matrix(self, y_pred, y):\n",
    "    n = max(np.max(y_pred), np.max(y)) + 1\n",
    "    matrix = np.zeros((n, n))\n",
    "    for i in range(len(y_pred)):\n",
    "      pred_class = y_pred[i]\n",
    "      class_label = y[i]\n",
    "      matrix[pred_class, class_label] += 1\n",
    "    return matrix"
   ],
   "metadata": {
    "collapsed": false
   }
  },
  {
   "cell_type": "code",
   "execution_count": 12,
   "outputs": [
    {
     "data": {
      "text/plain": "array([[-0.99942433, -0.98010233, -0.99845038, ..., -0.99696234,\n         0.97298639, -0.97461947],\n       [-0.99999591, -0.98364143, -0.99503032, ..., -0.995111  ,\n        -0.9873171 , -0.99820663],\n       [-0.99591063, -0.9883774 , -0.99980624, ..., -0.99770166,\n         0.80805022, -0.996058  ],\n       ...,\n       [-0.99614059, -0.9964039 , -0.96425459, ..., -0.99262529,\n        -0.98930587, -0.9562698 ],\n       [-0.99246954, -0.99846454, -0.96238938, ..., -0.97572762,\n         0.52595196, -0.93632762],\n       [-0.99746782, -0.99351699, -0.95346163, ..., -0.97899376,\n        -0.98945865, -0.97912658]])"
     },
     "execution_count": 12,
     "metadata": {},
     "output_type": "execute_result"
    }
   ],
   "source": [
    "batch_size = 128\n",
    "data = X_test[:10000]\n",
    "y_data = y_test_class[:10000]\n",
    "batch = data[0:batch_size]\n",
    "res_proba = NN.forward(batch)\n",
    "for i in range(batch_size, len(data), batch_size):\n",
    "    batch = data[i:i+batch_size]\n",
    "    res_batch = NN.forward(batch)\n",
    "    res_proba = np.append(res_proba, res_batch, axis=0)\n",
    "res_proba"
   ],
   "metadata": {
    "collapsed": false
   }
  },
  {
   "cell_type": "code",
   "execution_count": 13,
   "outputs": [
    {
     "name": "stdout",
     "output_type": "stream",
     "text": [
      "['8']\n"
     ]
    },
    {
     "data": {
      "text/plain": "<Figure size 2000x600 with 1 Axes>",
      "image/png": "[encoded data removed]"
     },
     "metadata": {},
     "output_type": "display_data"
    }
   ],
   "source": [
    "i = 0\n",
    "plt.imshow(X_test[i].reshape(28, 28))\n",
    "print((y_test_class[i]))"
   ],
   "metadata": {
    "collapsed": false
   }
  },
  {
   "cell_type": "code",
   "execution_count": 14,
   "outputs": [
    {
     "data": {
      "text/plain": "array([8, 4, 8, ..., 3, 8, 3], dtype=int64)"
     },
     "execution_count": 14,
     "metadata": {},
     "output_type": "execute_result"
    }
   ],
   "source": [
    "res_proba_max = res_proba.argmax(axis=1)\n",
    "res_proba_max"
   ],
   "metadata": {
    "collapsed": false
   }
  },
  {
   "cell_type": "code",
   "execution_count": 15,
   "outputs": [],
   "source": [
    "y_data = y_data.astype(np.uint8)"
   ],
   "metadata": {
    "collapsed": false
   }
  },
  {
   "cell_type": "code",
   "execution_count": 16,
   "outputs": [],
   "source": [
    "y_test_class = y_test_class.astype(np.uint8)"
   ],
   "metadata": {
    "collapsed": false
   }
  },
  {
   "cell_type": "code",
   "execution_count": 17,
   "outputs": [
    {
     "name": "stdout",
     "output_type": "stream",
     "text": [
      "Class 0: Precision = 0.9664, Recall = 0.9694, F1-Score = 0.9679\n",
      "Class 1: Precision = 0.9731, Recall = 0.9964, F1-Score = 0.9846\n",
      "Class 2: Precision = 0.9679, Recall = 0.8940, F1-Score = 0.9295\n",
      "Class 3: Precision = 0.9603, Recall = 0.9229, F1-Score = 0.9412\n",
      "Class 4: Precision = 0.9470, Recall = 0.9717, F1-Score = 0.9592\n",
      "Class 5: Precision = 0.9338, Recall = 0.9669, F1-Score = 0.9501\n",
      "Class 6: Precision = 0.9553, Recall = 0.9766, F1-Score = 0.9658\n",
      "Class 7: Precision = 0.9431, Recall = 0.9784, F1-Score = 0.9604\n",
      "Class 8: Precision = 0.9360, Recall = 0.9116, F1-Score = 0.9236\n",
      "Class 9: Precision = 0.9527, Recall = 0.9564, F1-Score = 0.9545\n"
     ]
    },
    {
     "data": {
      "text/plain": "       0       1      2      3      4      5      6      7      8      9\n0  950.0     0.0    0.0    2.0    0.0    6.0   10.0    1.0    7.0    4.0\n1    0.0  1121.0    2.0    0.0    0.0    0.0    0.0    1.0    1.0    0.0\n2   15.0    15.0  936.0   19.0    9.0    2.0    9.0   21.0   19.0    2.0\n3    1.0     4.0    9.0  993.0    3.0   29.0    0.0    9.0   17.0   11.0\n4    0.0     3.0    2.0    0.0  858.0    1.0    4.0    5.0    1.0    9.0\n5    2.0     0.0    1.0    3.0    2.0  875.0    9.0    2.0    7.0    4.0\n6    6.0     2.0    3.0    0.0    8.0    3.0  918.0    0.0    0.0    0.0\n7    1.0     1.0    4.0    5.0    1.0    0.0    0.0  995.0    3.0    7.0\n8    6.0     5.0    9.0    9.0    7.0   21.0   11.0    8.0  907.0   12.0\n9    2.0     1.0    1.0    3.0   18.0    0.0    0.0   13.0    7.0  987.0",
      "text/html": "<div>\n<style scoped>\n    .dataframe tbody tr th:only-of-type {\n        vertical-align: middle;\n    }\n\n    .dataframe tbody tr th {\n        vertical-align: top;\n    }\n\n    .dataframe thead th {\n        text-align: right;\n    }\n</style>\n<table border=\"1\" class=\"dataframe\">\n  <thead>\n    <tr style=\"text-align: right;\">\n      <th></th>\n      <th>0</th>\n      <th>1</th>\n      <th>2</th>\n      <th>3</th>\n      <th>4</th>\n      <th>5</th>\n      <th>6</th>\n      <th>7</th>\n      <th>8</th>\n      <th>9</th>\n    </tr>\n  </thead>\n  <tbody>\n    <tr>\n      <th>0</th>\n      <td>950.0</td>\n      <td>0.0</td>\n      <td>0.0</td>\n      <td>2.0</td>\n      <td>0.0</td>\n      <td>6.0</td>\n      <td>10.0</td>\n      <td>1.0</td>\n      <td>7.0</td>\n      <td>4.0</td>\n    </tr>\n    <tr>\n      <th>1</th>\n      <td>0.0</td>\n      <td>1121.0</td>\n      <td>2.0</td>\n      <td>0.0</td>\n      <td>0.0</td>\n      <td>0.0</td>\n      <td>0.0</td>\n      <td>1.0</td>\n      <td>1.0</td>\n      <td>0.0</td>\n    </tr>\n    <tr>\n      <th>2</th>\n      <td>15.0</td>\n      <td>15.0</td>\n      <td>936.0</td>\n      <td>19.0</td>\n      <td>9.0</td>\n      <td>2.0</td>\n      <td>9.0</td>\n      <td>21.0</td>\n      <td>19.0</td>\n      <td>2.0</td>\n    </tr>\n    <tr>\n      <th>3</th>\n      <td>1.0</td>\n      <td>4.0</td>\n      <td>9.0</td>\n      <td>993.0</td>\n      <td>3.0</td>\n      <td>29.0</td>\n      <td>0.0</td>\n      <td>9.0</td>\n      <td>17.0</td>\n      <td>11.0</td>\n    </tr>\n    <tr>\n      <th>4</th>\n      <td>0.0</td>\n      <td>3.0</td>\n      <td>2.0</td>\n      <td>0.0</td>\n      <td>858.0</td>\n      <td>1.0</td>\n      <td>4.0</td>\n      <td>5.0</td>\n      <td>1.0</td>\n      <td>9.0</td>\n    </tr>\n    <tr>\n      <th>5</th>\n      <td>2.0</td>\n      <td>0.0</td>\n      <td>1.0</td>\n      <td>3.0</td>\n      <td>2.0</td>\n      <td>875.0</td>\n      <td>9.0</td>\n      <td>2.0</td>\n      <td>7.0</td>\n      <td>4.0</td>\n    </tr>\n    <tr>\n      <th>6</th>\n      <td>6.0</td>\n      <td>2.0</td>\n      <td>3.0</td>\n      <td>0.0</td>\n      <td>8.0</td>\n      <td>3.0</td>\n      <td>918.0</td>\n      <td>0.0</td>\n      <td>0.0</td>\n      <td>0.0</td>\n    </tr>\n    <tr>\n      <th>7</th>\n      <td>1.0</td>\n      <td>1.0</td>\n      <td>4.0</td>\n      <td>5.0</td>\n      <td>1.0</td>\n      <td>0.0</td>\n      <td>0.0</td>\n      <td>995.0</td>\n      <td>3.0</td>\n      <td>7.0</td>\n    </tr>\n    <tr>\n      <th>8</th>\n      <td>6.0</td>\n      <td>5.0</td>\n      <td>9.0</td>\n      <td>9.0</td>\n      <td>7.0</td>\n      <td>21.0</td>\n      <td>11.0</td>\n      <td>8.0</td>\n      <td>907.0</td>\n      <td>12.0</td>\n    </tr>\n    <tr>\n      <th>9</th>\n      <td>2.0</td>\n      <td>1.0</td>\n      <td>1.0</td>\n      <td>3.0</td>\n      <td>18.0</td>\n      <td>0.0</td>\n      <td>0.0</td>\n      <td>13.0</td>\n      <td>7.0</td>\n      <td>987.0</td>\n    </tr>\n  </tbody>\n</table>\n</div>"
     },
     "execution_count": 17,
     "metadata": {},
     "output_type": "execute_result"
    }
   ],
   "source": [
    "metrics = Metrics(res_proba_max, y_data)\n",
    "pd.DataFrame(metrics.confusion_matrix)"
   ],
   "metadata": {
    "collapsed": false
   }
  },
  {
   "cell_type": "code",
   "execution_count": 18,
   "outputs": [
    {
     "data": {
      "text/plain": "0.954"
     },
     "execution_count": 18,
     "metadata": {},
     "output_type": "execute_result"
    }
   ],
   "source": [
    "metrics.accuracy"
   ],
   "metadata": {
    "collapsed": false
   }
  },
  {
   "cell_type": "code",
   "execution_count": 18,
   "outputs": [],
   "source": [],
   "metadata": {
    "collapsed": false
   }
  }
 ],
 "metadata": {
  "kernelspec": {
   "display_name": "Python 3",
   "language": "python",
   "name": "python3"
  },
  "language_info": {
   "codemirror_mode": {
    "name": "ipython",
    "version": 2
   },
   "file_extension": ".py",
   "mimetype": "text/x-python",
   "name": "python",
   "nbconvert_exporter": "python",
   "pygments_lexer": "ipython2",
   "version": "2.7.6"
  }
 },
 "nbformat": 4,
 "nbformat_minor": 0
}
