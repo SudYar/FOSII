{
 "cells": [
  {
   "cell_type": "code",
   "execution_count": 1,
   "metadata": {
    "collapsed": true
   },
   "outputs": [],
   "source": [
    "import numpy as np\n",
    "import pandas as pd\n",
    "import matplotlib.pyplot as plt\n",
    "\n",
    "from sklearn.model_selection import train_test_split\n",
    "from sklearn.preprocessing import StandardScaler, OneHotEncoder\n",
    "\n",
    "\n",
    "plt.rcParams[\"figure.figsize\"] = (20,6)\n",
    "rng = np.random.default_rng(51)"
   ]
  },
  {
   "cell_type": "code",
   "execution_count": 2,
   "outputs": [],
   "source": [
    "from sklearn.datasets import fetch_openml\n",
    "# Загружаем датасет MNIST из OpenML (70000 примеров, 784 признака - это 28*28)\n",
    "dmf = fetch_openml('mnist_784', version=1)"
   ],
   "metadata": {
    "collapsed": false
   }
  },
  {
   "cell_type": "code",
   "execution_count": 3,
   "outputs": [],
   "source": [
    "# 1. Загрузка данных\n",
    "X, y = dmf[\"data\"], dmf[\"target\"]\n",
    "# 3. Масштабирование данных\n",
    "scaler = StandardScaler()\n",
    "X_scaled = scaler.fit_transform(X)\n",
    "\n",
    "# 4. Преобразование меток y в формат one-hot\n",
    "encoder = OneHotEncoder(sparse_output=False)\n",
    "y_one_hot = encoder.fit_transform(pd.DataFrame(y))\n",
    "y_one_hot[y_one_hot == 0] = -1\n",
    "\n",
    "X_scaled = X_scaled.reshape(-1, 1, 28, 28)\n",
    "\n",
    "# 5. Разделение на тренировочные и тестовые данные\n",
    "X_train, X_test, y_train, y_test = train_test_split(X_scaled, y_one_hot, test_size=0.3, random_state=42)\n",
    "\n",
    "y_train_class = encoder.inverse_transform(y_train)\n",
    "y_test_class = encoder.inverse_transform(y_test)"
   ],
   "metadata": {
    "collapsed": false
   }
  },
  {
   "cell_type": "code",
   "execution_count": 4,
   "outputs": [],
   "source": [
    "from sklearn.manifold import TSNE"
   ],
   "metadata": {
    "collapsed": false
   }
  },
  {
   "cell_type": "code",
   "execution_count": 5,
   "outputs": [],
   "source": [
    "# tsne = TSNE(n_components=2, random_state=0)\n",
    "# x_tsne = tsne.fit_transform(X_test.reshape((-1, 28 * 28)))"
   ],
   "metadata": {
    "collapsed": false
   }
  },
  {
   "cell_type": "code",
   "execution_count": 6,
   "outputs": [],
   "source": [
    "# # Визуализация результатов\n",
    "# plt.figure(figsize=(10, 8))\n",
    "# scatter = plt.scatter(x_tsne[:, 0], x_tsne[:, 1], c=y_test_class, cmap='tab10', alpha=0.7)\n",
    "# plt.colorbar(scatter, ticks=range(10), label=\"Цифры\")\n",
    "# plt.title(\"Визуализация MNIST с использованием t-SNE\")\n",
    "# plt.xlabel(\"t-SNE компонент 1\")\n",
    "# plt.ylabel(\"t-SNE компонент 2\")\n",
    "# plt.show()"
   ],
   "metadata": {
    "collapsed": false
   }
  },
  {
   "cell_type": "markdown",
   "source": [
    "# Модель"
   ],
   "metadata": {
    "collapsed": false
   }
  },
  {
   "cell_type": "code",
   "execution_count": 7,
   "outputs": [],
   "source": [
    "from NeuralNetwork import NeuralNetwork\n",
    "from Functions import mse, dmse, Functions, rng\n",
    "from LayerTypes import LayerTypes, create_layer"
   ],
   "metadata": {
    "collapsed": false
   }
  },
  {
   "cell_type": "code",
   "execution_count": 8,
   "outputs": [],
   "source": [
    "net_arch_mnist = ((20,5,5), (2,12,12), (10,3,3), (2, 5, 5), 20, 10)\n",
    "NN = NeuralNetwork([\n",
    "        create_layer(LayerTypes.CONVOLUTIONAL, kernel_count=net_arch_mnist[0][0],\n",
    "                     kernel_size=(5, 5), input_size=(1, 28, 28),\n",
    "                     activation_function=Functions.relu),\n",
    "        create_layer(LayerTypes.POOLING, pool_size=2),\n",
    "        create_layer(LayerTypes.CONVOLUTIONAL, kernel_count=net_arch_mnist[2][0],\n",
    "                     kernel_size=(3, 3), input_size=(net_arch_mnist[0][0], 12, 12),\n",
    "                     activation_function=Functions.relu),\n",
    "        create_layer(LayerTypes.POOLING, pool_size=2),\n",
    "        create_layer(LayerTypes.FLATTEN),\n",
    "        create_layer(LayerTypes.DENSE, input_size=250, output_size=20, activation_function=Functions.tanh),\n",
    "        create_layer(LayerTypes.DENSE, input_size=20, output_size=10, activation_function=Functions.tanh)\n",
    "    ], 0.07)\n"
   ],
   "metadata": {
    "collapsed": false
   }
  },
  {
   "cell_type": "code",
   "execution_count": 9,
   "outputs": [
    {
     "name": "stderr",
     "output_type": "stream",
     "text": [
      "100%|██████████| 3/3 [02:38<00:00, 52.92s/it]\n"
     ]
    }
   ],
   "source": [
    "loss = NN.fit(X_test, y_test, 3, batch_size=128)"
   ],
   "metadata": {
    "collapsed": false
   }
  },
  {
   "cell_type": "code",
   "execution_count": 10,
   "outputs": [
    {
     "data": {
      "text/plain": "array([0.00199503, 0.00056992, 0.00035309])"
     },
     "execution_count": 10,
     "metadata": {},
     "output_type": "execute_result"
    }
   ],
   "source": [
    "loss"
   ],
   "metadata": {
    "collapsed": false
   }
  },
  {
   "cell_type": "code",
   "execution_count": 11,
   "outputs": [],
   "source": [
    "class Metrics:\n",
    "\n",
    "  def __init__(self, y_pred, y):\n",
    "    self.confusion_matrix = self._init_confusion_matrix(y_pred, y)\n",
    "    self.accuracy = np.trace(self.confusion_matrix) \\\n",
    "                    / np.sum(self.confusion_matrix)\n",
    "    confusion_matrix = self.confusion_matrix\n",
    "    # Инициализируем списки для precision, recall и F1 для каждого класса\n",
    "    precision = []\n",
    "    recall = []\n",
    "    f1_score = []\n",
    "\n",
    "    # Рассчитываем метрики для каждого класса\n",
    "    for i in range(len(self.confusion_matrix)):\n",
    "        TP = confusion_matrix[i, i]\n",
    "        FP = np.sum(confusion_matrix[:, i]) - TP\n",
    "        FN = np.sum(confusion_matrix[i, :]) - TP\n",
    "        TN = np.sum(confusion_matrix) - (TP + FP + FN)\n",
    "\n",
    "        # Precision, Recall, F1 для класса i\n",
    "        prec = TP / (TP + FP) if (TP + FP) > 0 else 0\n",
    "        rec = TP / (TP + FN) if (TP + FN) > 0 else 0\n",
    "        f1 = 2 * prec * rec / (prec + rec) if (prec + rec) > 0 else 0\n",
    "\n",
    "        precision.append(prec)\n",
    "        recall.append(rec)\n",
    "        f1_score.append(f1)\n",
    "\n",
    "        print(f\"Class {i}: Precision = {prec:.4f}, Recall = {rec:.4f}, F1-Score = {f1:.4f}\")\n",
    "    self.precision = precision\n",
    "    self.recall = recall\n",
    "    self.f1_score = f1_score\n",
    "\n",
    "  def _init_confusion_matrix(self, y_pred, y):\n",
    "    n = max(np.max(y_pred), np.max(y)) + 1\n",
    "    matrix = np.zeros((n, n))\n",
    "    for i in range(len(y_pred)):\n",
    "      pred_class = y_pred[i]\n",
    "      class_label = y[i]\n",
    "      matrix[pred_class, class_label] += 1\n",
    "    return matrix"
   ],
   "metadata": {
    "collapsed": false
   }
  },
  {
   "cell_type": "code",
   "execution_count": 12,
   "outputs": [
    {
     "data": {
      "text/plain": "array([[ 0.90893392, -0.99976455, -0.90797691, ..., -0.96603223,\n        -0.99413877, -0.96637821],\n       [-0.9999187 , -0.99505791, -0.99320904, ..., -0.94230952,\n        -0.98058198, -0.99566493],\n       [-0.99993673, -0.98347977, -0.9945292 , ..., -0.90680691,\n        -0.99885871, -0.92577807],\n       ...,\n       [-0.99609397, -0.98385664, -0.95879816, ...,  0.93133726,\n        -0.99707259, -0.87064136],\n       [-0.99756118, -0.99698863, -0.999033  , ..., -0.9980074 ,\n        -0.84610043, -0.85476884],\n       [-0.87280843, -0.99766059, -0.97117611, ..., -0.99962049,\n        -0.98074158, -0.99651892]])"
     },
     "execution_count": 12,
     "metadata": {},
     "output_type": "execute_result"
    }
   ],
   "source": [
    "batch_size = 128\n",
    "data = X_train[:10000]\n",
    "y_data = y_train_class[:10000]\n",
    "batch = data[0:batch_size]\n",
    "res_proba = NN.forward(batch)\n",
    "for i in range(batch_size, len(data), batch_size):\n",
    "    batch = data[i:i+batch_size]\n",
    "    res_batch = NN.forward(batch)\n",
    "    res_proba = np.append(res_proba, res_batch, axis=0)\n",
    "res_proba"
   ],
   "metadata": {
    "collapsed": false
   }
  },
  {
   "cell_type": "code",
   "execution_count": 13,
   "outputs": [
    {
     "name": "stdout",
     "output_type": "stream",
     "text": [
      "['0']\n"
     ]
    },
    {
     "data": {
      "text/plain": "<Figure size 2000x600 with 1 Axes>",
      "image/png": "[encoded data removed]"
     },
     "metadata": {},
     "output_type": "display_data"
    }
   ],
   "source": [
    "i = 0\n",
    "plt.imshow(X_train[i].reshape(28, 28))\n",
    "print((y_train_class[i]))"
   ],
   "metadata": {
    "collapsed": false
   }
  },
  {
   "cell_type": "code",
   "execution_count": 14,
   "outputs": [
    {
     "data": {
      "text/plain": "array([0, 4, 4, ..., 7, 5, 6], dtype=int64)"
     },
     "execution_count": 14,
     "metadata": {},
     "output_type": "execute_result"
    }
   ],
   "source": [
    "res_proba_max = res_proba.argmax(axis=1)\n",
    "res_proba_max"
   ],
   "metadata": {
    "collapsed": false
   }
  },
  {
   "cell_type": "code",
   "execution_count": 15,
   "outputs": [],
   "source": [
    "y_data = y_data.astype(np.uint8)"
   ],
   "metadata": {
    "collapsed": false
   }
  },
  {
   "cell_type": "code",
   "execution_count": 16,
   "outputs": [],
   "source": [
    "y_train_class = y_train_class.astype(np.uint8)"
   ],
   "metadata": {
    "collapsed": false
   }
  },
  {
   "cell_type": "code",
   "execution_count": 17,
   "outputs": [
    {
     "name": "stdout",
     "output_type": "stream",
     "text": [
      "Class 0: Precision = 0.9560, Recall = 0.9560, F1-Score = 0.9560\n",
      "Class 1: Precision = 0.9841, Recall = 0.9628, F1-Score = 0.9733\n",
      "Class 2: Precision = 0.9083, Recall = 0.9459, F1-Score = 0.9267\n",
      "Class 3: Precision = 0.8274, Recall = 0.9900, F1-Score = 0.9015\n",
      "Class 4: Precision = 0.9416, Recall = 0.9493, F1-Score = 0.9455\n",
      "Class 5: Precision = 0.9653, Recall = 0.8365, F1-Score = 0.8963\n",
      "Class 6: Precision = 0.9590, Recall = 0.9355, F1-Score = 0.9471\n",
      "Class 7: Precision = 0.9248, Recall = 0.9501, F1-Score = 0.9373\n",
      "Class 8: Precision = 0.9313, Recall = 0.8841, F1-Score = 0.9071\n",
      "Class 9: Precision = 0.9359, Recall = 0.9377, F1-Score = 0.9368\n"
     ]
    },
    {
     "data": {
      "text/plain": "       0       1      2      3      4      5      6      7      8      9\n0  955.0     0.0    7.0    3.0    2.0    2.0   16.0    2.0    4.0    8.0\n1    0.0  1112.0    5.0    5.0    9.0    2.0    5.0   13.0    4.0    0.0\n2    5.0     8.0  891.0   18.0    4.0    1.0    1.0    6.0    4.0    4.0\n3    0.0     0.0    5.0  796.0    1.0    1.0    0.0    1.0    0.0    0.0\n4    1.0     1.0    7.0    2.0  936.0    3.0    0.0   15.0    8.0   13.0\n5    7.0     1.0    4.0   83.0    1.0  834.0   17.0    3.0   29.0   18.0\n6   18.0     1.0    9.0    0.0   20.0    8.0  958.0    0.0   10.0    0.0\n7    1.0     1.0   17.0   14.0    2.0    1.0    0.0  971.0    2.0   13.0\n8   12.0     6.0   35.0   34.0    5.0    9.0    2.0    5.0  908.0   11.0\n9    0.0     0.0    1.0    7.0   14.0    3.0    0.0   34.0    6.0  979.0",
      "text/html": "<div>\n<style scoped>\n    .dataframe tbody tr th:only-of-type {\n        vertical-align: middle;\n    }\n\n    .dataframe tbody tr th {\n        vertical-align: top;\n    }\n\n    .dataframe thead th {\n        text-align: right;\n    }\n</style>\n<table border=\"1\" class=\"dataframe\">\n  <thead>\n    <tr style=\"text-align: right;\">\n      <th></th>\n      <th>0</th>\n      <th>1</th>\n      <th>2</th>\n      <th>3</th>\n      <th>4</th>\n      <th>5</th>\n      <th>6</th>\n      <th>7</th>\n      <th>8</th>\n      <th>9</th>\n    </tr>\n  </thead>\n  <tbody>\n    <tr>\n      <th>0</th>\n      <td>955.0</td>\n      <td>0.0</td>\n      <td>7.0</td>\n      <td>3.0</td>\n      <td>2.0</td>\n      <td>2.0</td>\n      <td>16.0</td>\n      <td>2.0</td>\n      <td>4.0</td>\n      <td>8.0</td>\n    </tr>\n    <tr>\n      <th>1</th>\n      <td>0.0</td>\n      <td>1112.0</td>\n      <td>5.0</td>\n      <td>5.0</td>\n      <td>9.0</td>\n      <td>2.0</td>\n      <td>5.0</td>\n      <td>13.0</td>\n      <td>4.0</td>\n      <td>0.0</td>\n    </tr>\n    <tr>\n      <th>2</th>\n      <td>5.0</td>\n      <td>8.0</td>\n      <td>891.0</td>\n      <td>18.0</td>\n      <td>4.0</td>\n      <td>1.0</td>\n      <td>1.0</td>\n      <td>6.0</td>\n      <td>4.0</td>\n      <td>4.0</td>\n    </tr>\n    <tr>\n      <th>3</th>\n      <td>0.0</td>\n      <td>0.0</td>\n      <td>5.0</td>\n      <td>796.0</td>\n      <td>1.0</td>\n      <td>1.0</td>\n      <td>0.0</td>\n      <td>1.0</td>\n      <td>0.0</td>\n      <td>0.0</td>\n    </tr>\n    <tr>\n      <th>4</th>\n      <td>1.0</td>\n      <td>1.0</td>\n      <td>7.0</td>\n      <td>2.0</td>\n      <td>936.0</td>\n      <td>3.0</td>\n      <td>0.0</td>\n      <td>15.0</td>\n      <td>8.0</td>\n      <td>13.0</td>\n    </tr>\n    <tr>\n      <th>5</th>\n      <td>7.0</td>\n      <td>1.0</td>\n      <td>4.0</td>\n      <td>83.0</td>\n      <td>1.0</td>\n      <td>834.0</td>\n      <td>17.0</td>\n      <td>3.0</td>\n      <td>29.0</td>\n      <td>18.0</td>\n    </tr>\n    <tr>\n      <th>6</th>\n      <td>18.0</td>\n      <td>1.0</td>\n      <td>9.0</td>\n      <td>0.0</td>\n      <td>20.0</td>\n      <td>8.0</td>\n      <td>958.0</td>\n      <td>0.0</td>\n      <td>10.0</td>\n      <td>0.0</td>\n    </tr>\n    <tr>\n      <th>7</th>\n      <td>1.0</td>\n      <td>1.0</td>\n      <td>17.0</td>\n      <td>14.0</td>\n      <td>2.0</td>\n      <td>1.0</td>\n      <td>0.0</td>\n      <td>971.0</td>\n      <td>2.0</td>\n      <td>13.0</td>\n    </tr>\n    <tr>\n      <th>8</th>\n      <td>12.0</td>\n      <td>6.0</td>\n      <td>35.0</td>\n      <td>34.0</td>\n      <td>5.0</td>\n      <td>9.0</td>\n      <td>2.0</td>\n      <td>5.0</td>\n      <td>908.0</td>\n      <td>11.0</td>\n    </tr>\n    <tr>\n      <th>9</th>\n      <td>0.0</td>\n      <td>0.0</td>\n      <td>1.0</td>\n      <td>7.0</td>\n      <td>14.0</td>\n      <td>3.0</td>\n      <td>0.0</td>\n      <td>34.0</td>\n      <td>6.0</td>\n      <td>979.0</td>\n    </tr>\n  </tbody>\n</table>\n</div>"
     },
     "execution_count": 17,
     "metadata": {},
     "output_type": "execute_result"
    }
   ],
   "source": [
    "metrics = Metrics(res_proba_max, y_data)\n",
    "pd.DataFrame(metrics.confusion_matrix)"
   ],
   "metadata": {
    "collapsed": false
   }
  },
  {
   "cell_type": "code",
   "execution_count": 18,
   "outputs": [
    {
     "data": {
      "text/plain": "0.934"
     },
     "execution_count": 18,
     "metadata": {},
     "output_type": "execute_result"
    }
   ],
   "source": [
    "metrics.accuracy"
   ],
   "metadata": {
    "collapsed": false
   }
  },
  {
   "cell_type": "code",
   "execution_count": 18,
   "outputs": [],
   "source": [],
   "metadata": {
    "collapsed": false
   }
  }
 ],
 "metadata": {
  "kernelspec": {
   "display_name": "Python 3",
   "language": "python",
   "name": "python3"
  },
  "language_info": {
   "codemirror_mode": {
    "name": "ipython",
    "version": 2
   },
   "file_extension": ".py",
   "mimetype": "text/x-python",
   "name": "python",
   "nbconvert_exporter": "python",
   "pygments_lexer": "ipython2",
   "version": "2.7.6"
  }
 },
 "nbformat": 4,
 "nbformat_minor": 0
}
