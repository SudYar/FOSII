{
 "cells": [
  {
   "cell_type": "code",
   "execution_count": 1,
   "metadata": {
    "collapsed": true
   },
   "outputs": [],
   "source": [
    "from NeuralNetwork import NeuralNetwork\n",
    "import numpy as np\n",
    "import pandas as pd\n",
    "import matplotlib.pyplot as plt\n",
    "# Для тепловых карт\n",
    "import seaborn as sns\n",
    "from sklearn.model_selection import train_test_split\n",
    "from sklearn.preprocessing import StandardScaler, OneHotEncoder\n",
    "\n",
    "from LayerTypes import LayerTypes, create_layer\n",
    "from Functions import Functions\n",
    "\n",
    "\n",
    "plt.rcParams[\"figure.figsize\"] = (20,6)\n",
    "rng = np.random.default_rng(51)"
   ]
  },
  {
   "cell_type": "code",
   "execution_count": 2,
   "outputs": [],
   "source": [
    "import numpy as np\n",
    "import pandas as pd\n",
    "from sklearn.model_selection import train_test_split\n",
    "from sklearn.preprocessing import StandardScaler, OneHotEncoder\n",
    "import matplotlib.pyplot as plt"
   ],
   "metadata": {
    "collapsed": false
   }
  },
  {
   "cell_type": "code",
   "execution_count": 3,
   "outputs": [
    {
     "data": {
      "text/plain": "     class-label cap-shape cap-surface cap-color  bruises    odor  \\\n0         EDIBLE    CONVEX      SMOOTH     WHITE  BRUISES  ALMOND   \n1         EDIBLE    CONVEX      SMOOTH     WHITE  BRUISES  ALMOND   \n2         EDIBLE    CONVEX      SMOOTH     WHITE  BRUISES  ALMOND   \n3         EDIBLE    CONVEX      SMOOTH     WHITE  BRUISES  ALMOND   \n4         EDIBLE    CONVEX      SMOOTH     WHITE  BRUISES  ALMOND   \n...          ...       ...         ...       ...      ...     ...   \n8411      EDIBLE   KNOBBED      SMOOTH     BROWN       NO    NONE   \n8412      EDIBLE   KNOBBED      SMOOTH     BROWN       NO    NONE   \n8413      EDIBLE   KNOBBED      SMOOTH     BROWN       NO    NONE   \n8414      EDIBLE   KNOBBED      SMOOTH     BROWN       NO    NONE   \n8415      EDIBLE   KNOBBED      SMOOTH     BROWN       NO    NONE   \n\n     gill-attachment gill-spacing gill-size gill-color  ...  \\\n0               FREE      CROWDED    NARROW      WHITE  ...   \n1               FREE      CROWDED    NARROW      WHITE  ...   \n2               FREE      CROWDED    NARROW       PINK  ...   \n3               FREE      CROWDED    NARROW       PINK  ...   \n4               FREE      CROWDED    NARROW      BROWN  ...   \n...              ...          ...       ...        ...  ...   \n8411        ATTACHED        CLOSE     BROAD      BROWN  ...   \n8412        ATTACHED        CLOSE     BROAD      BROWN  ...   \n8413        ATTACHED        CLOSE     BROAD      BROWN  ...   \n8414        ATTACHED        CLOSE     BROAD      BROWN  ...   \n8415        ATTACHED        CLOSE     BROAD      BROWN  ...   \n\n     stalk-surface-below-ring stalk-color-above-ring stalk-color-below-ring  \\\n0                      SMOOTH                  WHITE                  WHITE   \n1                      SMOOTH                  WHITE                  WHITE   \n2                      SMOOTH                  WHITE                  WHITE   \n3                      SMOOTH                  WHITE                  WHITE   \n4                      SMOOTH                  WHITE                  WHITE   \n...                       ...                    ...                    ...   \n8411                   SMOOTH                 ORANGE                 ORANGE   \n8412                   SMOOTH                 ORANGE                 ORANGE   \n8413                   SMOOTH                 ORANGE                 ORANGE   \n8414                   SMOOTH                 ORANGE                 ORANGE   \n8415                   SMOOTH                 ORANGE                 ORANGE   \n\n     veil-type veil-color ring-number ring-type spore-print-color population  \\\n0      PARTIAL      WHITE         ONE   PENDANT            PURPLE    SEVERAL   \n1      PARTIAL      WHITE         ONE   PENDANT             BROWN    SEVERAL   \n2      PARTIAL      WHITE         ONE   PENDANT            PURPLE    SEVERAL   \n3      PARTIAL      WHITE         ONE   PENDANT             BROWN    SEVERAL   \n4      PARTIAL      WHITE         ONE   PENDANT            PURPLE    SEVERAL   \n...        ...        ...         ...       ...               ...        ...   \n8411   PARTIAL      BROWN         ONE   PENDANT             BROWN  CLUSTERED   \n8412   PARTIAL      BROWN         ONE   PENDANT            ORANGE    SEVERAL   \n8413   PARTIAL      BROWN         ONE   PENDANT            ORANGE  CLUSTERED   \n8414   PARTIAL      BROWN         ONE   PENDANT              BUFF    SEVERAL   \n8415   PARTIAL      BROWN         ONE   PENDANT              BUFF  CLUSTERED   \n\n     habitat  \n0      WOODS  \n1      WOODS  \n2      WOODS  \n3      WOODS  \n4      WOODS  \n...      ...  \n8411  LEAVES  \n8412  LEAVES  \n8413  LEAVES  \n8414  LEAVES  \n8415  LEAVES  \n\n[8416 rows x 23 columns]",
      "text/html": "<div>\n<style scoped>\n    .dataframe tbody tr th:only-of-type {\n        vertical-align: middle;\n    }\n\n    .dataframe tbody tr th {\n        vertical-align: top;\n    }\n\n    .dataframe thead th {\n        text-align: right;\n    }\n</style>\n<table border=\"1\" class=\"dataframe\">\n  <thead>\n    <tr style=\"text-align: right;\">\n      <th></th>\n      <th>class-label</th>\n      <th>cap-shape</th>\n      <th>cap-surface</th>\n      <th>cap-color</th>\n      <th>bruises</th>\n      <th>odor</th>\n      <th>gill-attachment</th>\n      <th>gill-spacing</th>\n      <th>gill-size</th>\n      <th>gill-color</th>\n      <th>...</th>\n      <th>stalk-surface-below-ring</th>\n      <th>stalk-color-above-ring</th>\n      <th>stalk-color-below-ring</th>\n      <th>veil-type</th>\n      <th>veil-color</th>\n      <th>ring-number</th>\n      <th>ring-type</th>\n      <th>spore-print-color</th>\n      <th>population</th>\n      <th>habitat</th>\n    </tr>\n  </thead>\n  <tbody>\n    <tr>\n      <th>0</th>\n      <td>EDIBLE</td>\n      <td>CONVEX</td>\n      <td>SMOOTH</td>\n      <td>WHITE</td>\n      <td>BRUISES</td>\n      <td>ALMOND</td>\n      <td>FREE</td>\n      <td>CROWDED</td>\n      <td>NARROW</td>\n      <td>WHITE</td>\n      <td>...</td>\n      <td>SMOOTH</td>\n      <td>WHITE</td>\n      <td>WHITE</td>\n      <td>PARTIAL</td>\n      <td>WHITE</td>\n      <td>ONE</td>\n      <td>PENDANT</td>\n      <td>PURPLE</td>\n      <td>SEVERAL</td>\n      <td>WOODS</td>\n    </tr>\n    <tr>\n      <th>1</th>\n      <td>EDIBLE</td>\n      <td>CONVEX</td>\n      <td>SMOOTH</td>\n      <td>WHITE</td>\n      <td>BRUISES</td>\n      <td>ALMOND</td>\n      <td>FREE</td>\n      <td>CROWDED</td>\n      <td>NARROW</td>\n      <td>WHITE</td>\n      <td>...</td>\n      <td>SMOOTH</td>\n      <td>WHITE</td>\n      <td>WHITE</td>\n      <td>PARTIAL</td>\n      <td>WHITE</td>\n      <td>ONE</td>\n      <td>PENDANT</td>\n      <td>BROWN</td>\n      <td>SEVERAL</td>\n      <td>WOODS</td>\n    </tr>\n    <tr>\n      <th>2</th>\n      <td>EDIBLE</td>\n      <td>CONVEX</td>\n      <td>SMOOTH</td>\n      <td>WHITE</td>\n      <td>BRUISES</td>\n      <td>ALMOND</td>\n      <td>FREE</td>\n      <td>CROWDED</td>\n      <td>NARROW</td>\n      <td>PINK</td>\n      <td>...</td>\n      <td>SMOOTH</td>\n      <td>WHITE</td>\n      <td>WHITE</td>\n      <td>PARTIAL</td>\n      <td>WHITE</td>\n      <td>ONE</td>\n      <td>PENDANT</td>\n      <td>PURPLE</td>\n      <td>SEVERAL</td>\n      <td>WOODS</td>\n    </tr>\n    <tr>\n      <th>3</th>\n      <td>EDIBLE</td>\n      <td>CONVEX</td>\n      <td>SMOOTH</td>\n      <td>WHITE</td>\n      <td>BRUISES</td>\n      <td>ALMOND</td>\n      <td>FREE</td>\n      <td>CROWDED</td>\n      <td>NARROW</td>\n      <td>PINK</td>\n      <td>...</td>\n      <td>SMOOTH</td>\n      <td>WHITE</td>\n      <td>WHITE</td>\n      <td>PARTIAL</td>\n      <td>WHITE</td>\n      <td>ONE</td>\n      <td>PENDANT</td>\n      <td>BROWN</td>\n      <td>SEVERAL</td>\n      <td>WOODS</td>\n    </tr>\n    <tr>\n      <th>4</th>\n      <td>EDIBLE</td>\n      <td>CONVEX</td>\n      <td>SMOOTH</td>\n      <td>WHITE</td>\n      <td>BRUISES</td>\n      <td>ALMOND</td>\n      <td>FREE</td>\n      <td>CROWDED</td>\n      <td>NARROW</td>\n      <td>BROWN</td>\n      <td>...</td>\n      <td>SMOOTH</td>\n      <td>WHITE</td>\n      <td>WHITE</td>\n      <td>PARTIAL</td>\n      <td>WHITE</td>\n      <td>ONE</td>\n      <td>PENDANT</td>\n      <td>PURPLE</td>\n      <td>SEVERAL</td>\n      <td>WOODS</td>\n    </tr>\n    <tr>\n      <th>...</th>\n      <td>...</td>\n      <td>...</td>\n      <td>...</td>\n      <td>...</td>\n      <td>...</td>\n      <td>...</td>\n      <td>...</td>\n      <td>...</td>\n      <td>...</td>\n      <td>...</td>\n      <td>...</td>\n      <td>...</td>\n      <td>...</td>\n      <td>...</td>\n      <td>...</td>\n      <td>...</td>\n      <td>...</td>\n      <td>...</td>\n      <td>...</td>\n      <td>...</td>\n      <td>...</td>\n    </tr>\n    <tr>\n      <th>8411</th>\n      <td>EDIBLE</td>\n      <td>KNOBBED</td>\n      <td>SMOOTH</td>\n      <td>BROWN</td>\n      <td>NO</td>\n      <td>NONE</td>\n      <td>ATTACHED</td>\n      <td>CLOSE</td>\n      <td>BROAD</td>\n      <td>BROWN</td>\n      <td>...</td>\n      <td>SMOOTH</td>\n      <td>ORANGE</td>\n      <td>ORANGE</td>\n      <td>PARTIAL</td>\n      <td>BROWN</td>\n      <td>ONE</td>\n      <td>PENDANT</td>\n      <td>BROWN</td>\n      <td>CLUSTERED</td>\n      <td>LEAVES</td>\n    </tr>\n    <tr>\n      <th>8412</th>\n      <td>EDIBLE</td>\n      <td>KNOBBED</td>\n      <td>SMOOTH</td>\n      <td>BROWN</td>\n      <td>NO</td>\n      <td>NONE</td>\n      <td>ATTACHED</td>\n      <td>CLOSE</td>\n      <td>BROAD</td>\n      <td>BROWN</td>\n      <td>...</td>\n      <td>SMOOTH</td>\n      <td>ORANGE</td>\n      <td>ORANGE</td>\n      <td>PARTIAL</td>\n      <td>BROWN</td>\n      <td>ONE</td>\n      <td>PENDANT</td>\n      <td>ORANGE</td>\n      <td>SEVERAL</td>\n      <td>LEAVES</td>\n    </tr>\n    <tr>\n      <th>8413</th>\n      <td>EDIBLE</td>\n      <td>KNOBBED</td>\n      <td>SMOOTH</td>\n      <td>BROWN</td>\n      <td>NO</td>\n      <td>NONE</td>\n      <td>ATTACHED</td>\n      <td>CLOSE</td>\n      <td>BROAD</td>\n      <td>BROWN</td>\n      <td>...</td>\n      <td>SMOOTH</td>\n      <td>ORANGE</td>\n      <td>ORANGE</td>\n      <td>PARTIAL</td>\n      <td>BROWN</td>\n      <td>ONE</td>\n      <td>PENDANT</td>\n      <td>ORANGE</td>\n      <td>CLUSTERED</td>\n      <td>LEAVES</td>\n    </tr>\n    <tr>\n      <th>8414</th>\n      <td>EDIBLE</td>\n      <td>KNOBBED</td>\n      <td>SMOOTH</td>\n      <td>BROWN</td>\n      <td>NO</td>\n      <td>NONE</td>\n      <td>ATTACHED</td>\n      <td>CLOSE</td>\n      <td>BROAD</td>\n      <td>BROWN</td>\n      <td>...</td>\n      <td>SMOOTH</td>\n      <td>ORANGE</td>\n      <td>ORANGE</td>\n      <td>PARTIAL</td>\n      <td>BROWN</td>\n      <td>ONE</td>\n      <td>PENDANT</td>\n      <td>BUFF</td>\n      <td>SEVERAL</td>\n      <td>LEAVES</td>\n    </tr>\n    <tr>\n      <th>8415</th>\n      <td>EDIBLE</td>\n      <td>KNOBBED</td>\n      <td>SMOOTH</td>\n      <td>BROWN</td>\n      <td>NO</td>\n      <td>NONE</td>\n      <td>ATTACHED</td>\n      <td>CLOSE</td>\n      <td>BROAD</td>\n      <td>BROWN</td>\n      <td>...</td>\n      <td>SMOOTH</td>\n      <td>ORANGE</td>\n      <td>ORANGE</td>\n      <td>PARTIAL</td>\n      <td>BROWN</td>\n      <td>ONE</td>\n      <td>PENDANT</td>\n      <td>BUFF</td>\n      <td>CLUSTERED</td>\n      <td>LEAVES</td>\n    </tr>\n  </tbody>\n</table>\n<p>8416 rows × 23 columns</p>\n</div>"
     },
     "execution_count": 3,
     "metadata": {},
     "output_type": "execute_result"
    }
   ],
   "source": [
    "dfm=pd.read_csv('Mushroom_dataset.csv', delimiter = \",\", names=['class-label','cap-shape','cap-surface','cap-color','bruises','odor','gill-attachment','gill-spacing','gill-size','gill-color','stalk-shape','stalk-root','stalk-surface-above-ring','stalk-surface-below-ring','stalk-color-above-ring','stalk-color-below-ring','veil-type','veil-color','ring-number','ring-type','spore-print-color','population','habitat'])\n",
    "dfm"
   ],
   "metadata": {
    "collapsed": false
   }
  },
  {
   "cell_type": "code",
   "execution_count": 4,
   "outputs": [],
   "source": [
    "from sklearn import preprocessing\n",
    "\n",
    "le = preprocessing.LabelEncoder()\n",
    "for column_name in dfm.columns:\n",
    "    dfm[column_name]=le.fit_transform(dfm[column_name])\n",
    "Y=dfm.iloc[:, 0:1].values.ravel()\n",
    "X=dfm.iloc[:, 1:24]"
   ],
   "metadata": {
    "collapsed": false
   }
  },
  {
   "cell_type": "code",
   "execution_count": 5,
   "outputs": [],
   "source": [
    "dfm = dfm.drop(['veil-type', 'veil-color', 'gill-attachment'], axis=1)"
   ],
   "metadata": {
    "collapsed": false
   }
  },
  {
   "cell_type": "code",
   "execution_count": 6,
   "outputs": [],
   "source": [
    "# 1. Загрузка данных\n",
    "mushrooms = dfm.copy()\n",
    "X = mushrooms.drop('class-label', axis=1)\n",
    "y = mushrooms['class-label']"
   ],
   "metadata": {
    "collapsed": false
   }
  },
  {
   "cell_type": "code",
   "execution_count": 7,
   "outputs": [
    {
     "name": "stdout",
     "output_type": "stream",
     "text": [
      "   cap-shape  cap-surface  cap-color  bruises  odor  gill-spacing  gill-size  \\\n",
      "0          2            3          8        0     0             1          1   \n",
      "1          2            3          8        0     0             1          1   \n",
      "2          2            3          8        0     0             1          1   \n",
      "3          2            3          8        0     0             1          1   \n",
      "4          2            3          8        0     0             1          1   \n",
      "\n",
      "   gill-color  stalk-shape  stalk-root  stalk-surface-above-ring  \\\n",
      "0          10            1           1                         3   \n",
      "1          10            1           1                         3   \n",
      "2           7            1           1                         3   \n",
      "3           7            1           1                         3   \n",
      "4           1            1           1                         3   \n",
      "\n",
      "   stalk-surface-below-ring  stalk-color-above-ring  stalk-color-below-ring  \\\n",
      "0                         3                       7                       7   \n",
      "1                         3                       7                       7   \n",
      "2                         3                       7                       7   \n",
      "3                         3                       7                       7   \n",
      "4                         3                       7                       7   \n",
      "\n",
      "   ring-number  ring-type  spore-print-color  population  habitat  \n",
      "0            1          4                  6           4        6  \n",
      "1            1          4                  1           4        6  \n",
      "2            1          4                  6           4        6  \n",
      "3            1          4                  1           4        6  \n",
      "4            1          4                  6           4        6  \n",
      "0    4488\n",
      "1    3928\n",
      "Name: class-label, dtype: int64\n"
     ]
    }
   ],
   "source": [
    "# 2. Проверка данных\n",
    "print(X.head())\n",
    "print(y.value_counts())\n",
    "\n",
    "# 3. Масштабирование данных\n",
    "scaler = StandardScaler()\n",
    "X_scaled = scaler.fit_transform(X)\n",
    "\n",
    "# 4. Преобразование меток y в формат one-hot\n",
    "encoder = OneHotEncoder(sparse_output=False)\n",
    "y_one_hot = encoder.fit_transform(pd.DataFrame(y))\n",
    "\n",
    "# 5. Разделение на тренировочные и тестовые данные\n",
    "X_train, X_test, y_train, y_test = train_test_split(X_scaled, y_one_hot, test_size=0.3, random_state=42)\n",
    "\n",
    "y_train_class = encoder.inverse_transform(y_train)\n",
    "y_test_class = encoder.inverse_transform(y_test)\n"
   ],
   "metadata": {
    "collapsed": false
   }
  },
  {
   "cell_type": "markdown",
   "source": [
    "# Используем модель"
   ],
   "metadata": {
    "collapsed": false
   }
  },
  {
   "cell_type": "code",
   "execution_count": 35,
   "outputs": [],
   "source": [
    "net_arch = (X_test.shape[1], 5, 3, 2)\n",
    "mlp_mushroom = NeuralNetwork(\n",
    "    layers=[\n",
    "        create_layer(LayerTypes.DENSE, input_size=net_arch[0],\n",
    "                     output_size=net_arch[1], activation_function=Functions.sigmoid),\n",
    "        create_layer(LayerTypes.DENSE, input_size=net_arch[1],\n",
    "                     output_size=net_arch[2], activation_function=Functions.sigmoid),\n",
    "        create_layer(LayerTypes.DENSE, input_size=net_arch[2],\n",
    "                     output_size=net_arch[3], activation_function=Functions.none)\n",
    "    ],\n",
    "    learning_rate=0.07\n",
    ")"
   ],
   "metadata": {
    "collapsed": false
   }
  },
  {
   "cell_type": "code",
   "execution_count": 36,
   "outputs": [
    {
     "data": {
      "text/plain": "(5891, 19)"
     },
     "execution_count": 36,
     "metadata": {},
     "output_type": "execute_result"
    }
   ],
   "source": [
    "X_train.shape"
   ],
   "metadata": {
    "collapsed": false
   }
  },
  {
   "cell_type": "code",
   "execution_count": 37,
   "outputs": [],
   "source": [
    "epochs = 300\n",
    "loss_epoches = mlp_mushroom.fit(X_train, y_train, epoch_count=epochs)"
   ],
   "metadata": {
    "collapsed": false
   }
  },
  {
   "cell_type": "code",
   "execution_count": 38,
   "outputs": [
    {
     "data": {
      "text/plain": "<Figure size 2000x600 with 1 Axes>",
      "image/png": "[encoded data removed]"
     },
     "metadata": {},
     "output_type": "display_data"
    }
   ],
   "source": [
    "plt.plot(loss_epoches, label='Train')\n",
    "# plt.plot(loss_test_epoches, label='Test')\n",
    "plt.legend(loc='upper right')\n",
    "plt.show()"
   ],
   "metadata": {
    "collapsed": false
   }
  },
  {
   "cell_type": "code",
   "execution_count": 39,
   "outputs": [],
   "source": [
    "from pandas import DataFrame"
   ],
   "metadata": {
    "collapsed": false
   }
  },
  {
   "cell_type": "code",
   "execution_count": 40,
   "outputs": [
    {
     "data": {
      "text/plain": "      0     1\n0  1355     0\n1     0  1170",
      "text/html": "<div>\n<style scoped>\n    .dataframe tbody tr th:only-of-type {\n        vertical-align: middle;\n    }\n\n    .dataframe tbody tr th {\n        vertical-align: top;\n    }\n\n    .dataframe thead th {\n        text-align: right;\n    }\n</style>\n<table border=\"1\" class=\"dataframe\">\n  <thead>\n    <tr style=\"text-align: right;\">\n      <th></th>\n      <th>0</th>\n      <th>1</th>\n    </tr>\n  </thead>\n  <tbody>\n    <tr>\n      <th>0</th>\n      <td>1355</td>\n      <td>0</td>\n    </tr>\n    <tr>\n      <th>1</th>\n      <td>0</td>\n      <td>1170</td>\n    </tr>\n  </tbody>\n</table>\n</div>"
     },
     "execution_count": 40,
     "metadata": {},
     "output_type": "execute_result"
    }
   ],
   "source": [
    "\n",
    "\n",
    "accuracy = 0\n",
    "predicted = np.argmax(mlp_mushroom.forward(X_test.copy()), axis=1)\n",
    "confusion_matrix = np.bincount(2 * y_test_class.reshape(-1) + predicted, minlength=4).reshape(2, 2)\n",
    "confusion_matrix = DataFrame(confusion_matrix)\n",
    "confusion_matrix"
   ],
   "metadata": {
    "collapsed": false
   }
  },
  {
   "cell_type": "code",
   "execution_count": 42,
   "outputs": [
    {
     "data": {
      "text/plain": "1.0"
     },
     "execution_count": 42,
     "metadata": {},
     "output_type": "execute_result"
    }
   ],
   "source": [
    "accuracy = np.diag(confusion_matrix).sum()/confusion_matrix.sum().sum()\n",
    "accuracy"
   ],
   "metadata": {
    "collapsed": false
   }
  },
  {
   "cell_type": "code",
   "execution_count": null,
   "outputs": [],
   "source": [
    "confusion_matrix.sum().sum()"
   ],
   "metadata": {
    "collapsed": false
   }
  },
  {
   "cell_type": "code",
   "execution_count": null,
   "outputs": [],
   "source": [],
   "metadata": {
    "collapsed": false
   }
  }
 ],
 "metadata": {
  "kernelspec": {
   "display_name": "Python 3",
   "language": "python",
   "name": "python3"
  },
  "language_info": {
   "codemirror_mode": {
    "name": "ipython",
    "version": 2
   },
   "file_extension": ".py",
   "mimetype": "text/x-python",
   "name": "python",
   "nbconvert_exporter": "python",
   "pygments_lexer": "ipython2",
   "version": "2.7.6"
  }
 },
 "nbformat": 4,
 "nbformat_minor": 0
}
