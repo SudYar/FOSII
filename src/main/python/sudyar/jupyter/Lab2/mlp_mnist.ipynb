{
 "cells": [
  {
   "cell_type": "code",
   "execution_count": 1,
   "metadata": {
    "collapsed": true
   },
   "outputs": [],
   "source": [
    "from sklearn.datasets import fetch_openml\n",
    "import numpy as np"
   ]
  },
  {
   "cell_type": "code",
   "execution_count": 2,
   "outputs": [
    {
     "name": "stdout",
     "output_type": "stream",
     "text": [
      "Форма данных: (70000, 784)\n",
      "Форма меток: (70000,)\n"
     ]
    }
   ],
   "source": [
    "# Загружаем датасет MNIST из OpenML (70000 примеров, 784 признака - это 28*28)\n",
    "mnist = fetch_openml('mnist_784', version=1)\n",
    "\n",
    "# Извлекаем данные и метки\n",
    "X, y = mnist[\"data\"], mnist[\"target\"]\n",
    "\n",
    "# Преобразуем метки в целочисленные значения\n",
    "y = y.astype(np.uint8)\n",
    "\n",
    "# Нормализуем данные (из диапазона [0-255] в [0-1])\n",
    "X = X / 255.0\n",
    "\n",
    "# Проверим формы данных\n",
    "print(f\"Форма данных: {X.shape}\")\n",
    "print(f\"Форма меток: {y.shape}\")"
   ],
   "metadata": {
    "collapsed": false
   }
  },
  {
   "cell_type": "code",
   "execution_count": 3,
   "outputs": [
    {
     "name": "stdout",
     "output_type": "stream",
     "text": [
      "Форма данных для сверточной сети: (70000, 28, 28, 1)\n"
     ]
    }
   ],
   "source": [
    "# Преобразуем X из плоских векторов (784,) в формат (28, 28, 1) для свёрточной сети\n",
    "X = X.values.reshape(-1, 28, 28, 1)\n",
    "\n",
    "# Проверим формы данных после преобразования\n",
    "print(f\"Форма данных для сверточной сети: {X.shape}\")"
   ],
   "metadata": {
    "collapsed": false
   }
  },
  {
   "cell_type": "code",
   "execution_count": 4,
   "outputs": [
    {
     "name": "stdout",
     "output_type": "stream",
     "text": [
      "Обучающая выборка: (60000, 28, 28, 1), Тестовая выборка: (10000, 28, 28, 1)\n"
     ]
    }
   ],
   "source": [
    "from sklearn.model_selection import train_test_split\n",
    "\n",
    "# Разделяем на обучающую и тестовую выборки\n",
    "X_train, X_test, y_train, y_test = train_test_split(X, y, test_size=1/7, random_state=42)\n",
    "\n",
    "print(f\"Обучающая выборка: {X_train.shape}, Тестовая выборка: {X_test.shape}\")"
   ],
   "metadata": {
    "collapsed": false
   }
  },
  {
   "cell_type": "code",
   "execution_count": null,
   "outputs": [],
   "source": [],
   "metadata": {
    "collapsed": false
   }
  }
 ],
 "metadata": {
  "kernelspec": {
   "display_name": "Python 3",
   "language": "python",
   "name": "python3"
  },
  "language_info": {
   "codemirror_mode": {
    "name": "ipython",
    "version": 2
   },
   "file_extension": ".py",
   "mimetype": "text/x-python",
   "name": "python",
   "nbconvert_exporter": "python",
   "pygments_lexer": "ipython2",
   "version": "2.7.6"
  }
 },
 "nbformat": 4,
 "nbformat_minor": 0
}
